{
 "cells": [
  {
   "cell_type": "markdown",
   "metadata": {},
   "source": [
    "# Importing Gaia data to Firefly\n",
    "*Author: Aaron Geller*\n",
    "\n",
    "*Building off of the tutorial here: http://gea.esac.esa.int/archive-help/index.html *\n",
    "\n",
    "*I believe the main table is gaiadr2.gaia_source, and [here](http://gea.esac.esa.int/archive/documentation/GDR2/Gaia_archive/chap_datamodel/sec_dm_main_tables/ssec_dm_gaia_source.html) is the description of the columns*"
   ]
  },
  {
   "cell_type": "code",
   "execution_count": 10,
   "metadata": {},
   "outputs": [
    {
     "name": "stdout",
     "output_type": "stream",
     "text": [
      "The autoreload extension is already loaded. To reload it, use:\n",
      "  %reload_ext autoreload\n"
     ]
    }
   ],
   "source": [
    "%load_ext autoreload\n",
    "%autoreload 2\n",
    "from FIREreader import FIREreader"
   ]
  },
  {
   "cell_type": "code",
   "execution_count": 76,
   "metadata": {},
   "outputs": [],
   "source": [
    "import astropy.units as u\n",
    "import astropy.coordinates as coord\n",
    "from astropy.coordinates.sky_coordinate import SkyCoord\n",
    "from astroquery.gaia import Gaia\n",
    "import numpy as np"
   ]
  },
  {
   "cell_type": "markdown",
   "metadata": {},
   "source": [
    "*Do the following to load and look at the available Gaia table names:*"
   ]
  },
  {
   "cell_type": "code",
   "execution_count": null,
   "metadata": {
    "scrolled": false
   },
   "outputs": [],
   "source": [
    "tables = Gaia.load_tables(only_names=True)\n",
    "for table in (tables):\n",
    "    print (table.get_qualified_name())"
   ]
  },
  {
   "cell_type": "code",
   "execution_count": null,
   "metadata": {
    "scrolled": true
   },
   "outputs": [],
   "source": [
    "gaiadr2_table = Gaia.load_table('gaiadr2.gaia_source')\n",
    "for column in (gaiadr2_table.get_columns()):\n",
    "    print(column.get_name())"
   ]
  },
  {
   "cell_type": "markdown",
   "metadata": {},
   "source": [
    "*Next, we retrieve all the available data *\n",
    "\n",
    "*Note: The query to the archive is with ADQL (Astronomical Data Query Language). *"
   ]
  },
  {
   "cell_type": "code",
   "execution_count": 214,
   "metadata": {},
   "outputs": [
    {
     "name": "stdout",
     "output_type": "stream",
     "text": [
      "<Table masked=True length=2000>\n",
      "  name    dtype     unit    format                description                 n_bad\n",
      "-------- ------- ---------- ------ ------------------------------------------ -----\n",
      "      ra float64        deg {!r:>}                            Right ascension     0\n",
      "     dec float64        deg {!r:>}                                Declination     0\n",
      "parallax float64        mas {!r:>}                                   Parallax    41\n",
      "    pmra float64 mas.yr**-1 {!r:>} Proper motion in right ascension direction    41\n",
      "   pmdec float64 mas.yr**-1 {!r:>}     Proper motion in declination direction    41\n",
      "Jobid: None\n",
      "Phase: COMPLETED\n",
      "Owner: None\n",
      "Output file: sync_20180501154814.xml.gz\n",
      "Results: None\n"
     ]
    },
    {
     "name": "stderr",
     "output_type": "stream",
     "text": [
      "WARNING: W27: None:3:0: W27: COOSYS deprecated in VOTable 1.2 [astropy.io.votable.tree]\n",
      "WARNING: W35: None:5:0: W35: 'value' attribute required for INFO elements [astropy.io.votable.tree]\n",
      "WARNING: W35: None:6:0: W35: 'value' attribute required for INFO elements [astropy.io.votable.tree]\n",
      "WARNING: W35: None:7:0: W35: 'value' attribute required for INFO elements [astropy.io.votable.tree]\n",
      "WARNING: W35: None:8:0: W35: 'value' attribute required for INFO elements [astropy.io.votable.tree]\n",
      "WARNING: W35: None:10:0: W35: 'value' attribute required for INFO elements [astropy.io.votable.tree]\n",
      "WARNING: W50: None:21:0: W50: Invalid unit string 'mas.yr**-1' [astropy.io.votable.tree]\n",
      "WARNING: W50: None:24:0: W50: Invalid unit string 'mas.yr**-1' [astropy.io.votable.tree]\n"
     ]
    }
   ],
   "source": [
    "#there aren't any RVs\n",
    "#cmd = \"SELECT TOP 100 ra, dec, parallax, pmra, pmdec, radial_velocity FROM gaiadr2.gaia_source\"\n",
    "\n",
    "cmd = \"SELECT TOP 2000 ra, dec, parallax, pmra, pmdec FROM gaiadr2.gaia_source \\\n",
    "WHERE phot_g_mean_mag<=10\"\n",
    "\n",
    "#synchronous commands are OK for jobs with < 2000 output rows\n",
    "job = Gaia.launch_job(cmd, dump_to_file=False) \n",
    "\n",
    "#asynchronous commands are giving me an error!\n",
    "# cmd = \"SELECT * ra, dec, parallax, pmra, pmdec FROM gaiadr2.gaia_source \\\n",
    "# WHERE phot_g_mean_mag<=10\"\n",
    "#job = Gaia.launch_job_async(cmd, dump_to_file=False)\n",
    "\n",
    "print (job)"
   ]
  },
  {
   "cell_type": "markdown",
   "metadata": {},
   "source": [
    "*Inspect the output table and number of rows:*"
   ]
  },
  {
   "cell_type": "code",
   "execution_count": 215,
   "metadata": {},
   "outputs": [
    {
     "name": "stdout",
     "output_type": "stream",
     "text": [
      "2000\n",
      "        ra                 dec         ...        pmdec       \n",
      "       deg                 deg         ...      mas.yr**-1    \n",
      "------------------ ------------------- ... -------------------\n",
      "  326.046610958014   9.875017848222623 ...                  --\n",
      " 89.88182329162628   44.94743204476693 ...                  --\n",
      "14.177441204227053   60.71672247798855 ...                  --\n",
      " 274.4061143187362  -36.76240607839242 ... -164.92287295610117\n",
      "221.24649351883244   27.07431392249596 ...                  --\n",
      "109.28559761663782 -37.097446909729776 ...    2.28343468295344\n",
      "311.55470104855004   33.97165785643453 ...   308.7866768543131\n",
      " 296.5649839440163  10.613253300439279 ... -0.4016424904745284\n",
      "236.06755715935202   6.425826685796823 ...  46.915636208302175\n",
      "226.01721301839848 -25.282153195983703 ...  -38.54051987415152\n",
      "               ...                 ... ...                 ...\n",
      "170.83972114695513 -18.780112390751903 ...  -20.23587202300952\n",
      "133.91527190537553   27.92734208039435 ...  -32.80045886697506\n",
      "  2.89344427334142  -27.79966411493921 ...  13.384838182442703\n",
      " 83.84542607272478  -5.416054388606296 ...  1.3795766573468302\n",
      " 295.1810697364919  -16.29348862630476 ...  -50.33690379051673\n",
      " 55.56211833935157  -31.93830264426424 ...  13.325706263953212\n",
      "44.269133300553264   4.501122331513569 ...    22.2075957460519\n",
      "293.64545965568067  19.773422747826416 ...    5.46986753535016\n",
      " 226.5700118264465   54.55636990222908 ...   11.97470700955486\n",
      "316.17967679873465  -77.02536058920765 ... -369.32461258564183\n",
      "Length = 2000 rows\n"
     ]
    }
   ],
   "source": [
    "r = job.get_results()\n",
    "print(len(r))\n",
    "print(r)"
   ]
  },
  {
   "cell_type": "markdown",
   "metadata": {},
   "source": [
    "*Convert these ra, dec, parallax coordinates to 3D cartesian*"
   ]
  },
  {
   "cell_type": "code",
   "execution_count": 216,
   "metadata": {},
   "outputs": [
    {
     "name": "stdout",
     "output_type": "stream",
     "text": [
      "4\n"
     ]
    },
    {
     "name": "stderr",
     "output_type": "stream",
     "text": [
      "/Users/ageller/anaconda/envs/py36/lib/python3.6/site-packages/astropy/table/column.py:954: RuntimeWarning: invalid value encountered in less\n",
      "  return getattr(self.data, op)(other)\n"
     ]
    }
   ],
   "source": [
    "\n",
    "#it is odd that some of the parallaxes are negative!\n",
    "print(len(np.where(r['parallax'] < 0)[0]))\n",
    "dist = np.abs((r['parallax']).to(u.parsec, equivalencies=u.parallax()))\n",
    "astroC = SkyCoord(ra=r['ra'], dec=r['dec'], distance=dist).cartesian #transform_to(coord.Galactocentric)\n",
    "\n",
    "#this would account for velocities also\n",
    "# pmra = np.array([x for x in r['pmra']]) * u.mas/u.yr\n",
    "# pmdec = np.array([x for x in r['pmdec']]) * u.mas/u.yr\n",
    "# #there aren't any RVs\n",
    "# #rv = np.array([x for x in r['radial_velocity']]) * u.km/u.s \n",
    "# rv = np.zeros(len(pmra)) * u.km/u.s\n",
    "# astroC = coord.ICRS(ra=r['ra'], dec=r['dec'], distance=dist, \n",
    "#                     pm_ra_cosdec=pmra, pm_dec=pmdec, radial_velocity=rv).transform_to(coord.Galactocentric)"
   ]
  },
  {
   "cell_type": "markdown",
   "metadata": {},
   "source": [
    "*Now put these in the format expected by FIREreader*"
   ]
  },
  {
   "cell_type": "code",
   "execution_count": 217,
   "metadata": {
    "scrolled": false
   },
   "outputs": [
    {
     "name": "stdout",
     "output_type": "stream",
     "text": [
      "[[    3.1315411    -40.64130966   -30.45201359]\n",
      " [  -69.37069534   198.25135221  -158.83565473]\n",
      " [   12.74090792   -14.37330244    12.94170654]\n",
      " [  160.33843567  -320.67781207    67.18262268]\n",
      " [  -14.08974221   -20.94212353     2.84272035]\n",
      " [  -79.24365749   -82.10856      -53.89665179]\n",
      " [  108.7320149  -1183.62180629  -681.49846896]\n",
      " [   26.02758967    44.19954352   -12.32302709]\n",
      " [  -31.68304766  -207.65290788  -305.97646536]\n",
      " [  -69.26527358    31.44668857    67.29982114]]\n"
     ]
    }
   ],
   "source": [
    "coords = []\n",
    "vel = []\n",
    "for i,c in enumerate(astroC):\n",
    "    if (np.isfinite(c.x)):\n",
    "        if (len(coords) == 0):\n",
    "            coords = np.array([[c.x.to(u.pc).value, c.y.to(u.pc).value ,c.z.to(u.pc).value]])\n",
    "#             vel = np.array([[c.v_x.to(u.km/u.s).value, c.v_y.to(u.km/u.s).value ,c.v_z.to(u.km/u.s).value]])\n",
    "        else:\n",
    "            coords = np.append(coords, \\\n",
    "                   np.array([[c.x.to(u.pc).value, c.y.to(u.pc).value ,c.z.to(u.pc).value]]), axis=0)\n",
    "#             vel = np.append(vel, \\\n",
    "#                     np.array([[c.v_x.to(u.km/u.s).value, c.v_y.to(u.km/u.s).value ,c.v_z.to(u.km/u.s).value]]), axis=0)\n",
    "\n",
    "            \n",
    "print(coords[0:10])\n",
    "# print(vel[0:10])"
   ]
  },
  {
   "cell_type": "markdown",
   "metadata": {},
   "source": [
    "*Create the Firefly data files using FIREreader*"
   ]
  },
  {
   "cell_type": "code",
   "execution_count": 218,
   "metadata": {},
   "outputs": [
    {
     "name": "stdout",
     "output_type": "stream",
     "text": [
      "shuffling ... \n",
      "writing JSON files ...\n",
      "Gaia\n",
      "Gaia/GaiaDataOptions.json\n"
     ]
    }
   ],
   "source": [
    "pname = 'Gaia'\n",
    "\n",
    "reader = FIREreader()\n",
    "\n",
    "#set all of these manually\n",
    "reader.returnParts = [pname] \n",
    "reader.names = {pname:pname}\n",
    "reader.dataDir = pname\n",
    "reader.JSONfname = pname+'Data'\n",
    "\n",
    "#create a space for the data in partsDict\n",
    "reader.partsDict[pname] = dict()\n",
    "\n",
    "#define the defaults; this must be run first if you want to change the defaults below\n",
    "reader.defineDefaults()\n",
    "reader.defineFilterKeys()\n",
    "\n",
    "#update a few of the options\n",
    "#reader.options['sizeMult'][pname] = 0.1\n",
    "reader.options['color'][pname] = [1., 1., 0., 1.]\n",
    "reader.options['center'] = [0,0,0]\n",
    "\n",
    "reader.addtodict(reader.partsDict,None,'Gaia','Coordinates',0,0,vals=coords)\n",
    "\n",
    "\n",
    "reader.shuffle_dict()\n",
    "reader.swap_dict_names()\n",
    "reader.createJSON()"
   ]
  },
  {
   "cell_type": "code",
   "execution_count": null,
   "metadata": {},
   "outputs": [],
   "source": []
  }
 ],
 "metadata": {
  "anaconda-cloud": {},
  "kernelspec": {
   "display_name": "Python 3",
   "language": "python",
   "name": "python3"
  },
  "language_info": {
   "codemirror_mode": {
    "name": "ipython",
    "version": 3
   },
   "file_extension": ".py",
   "mimetype": "text/x-python",
   "name": "python",
   "nbconvert_exporter": "python",
   "pygments_lexer": "ipython3",
   "version": "3.6.4"
  }
 },
 "nbformat": 4,
 "nbformat_minor": 1
}
