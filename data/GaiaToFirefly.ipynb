{
 "cells": [
  {
   "cell_type": "markdown",
   "metadata": {},
   "source": [
    "# Importing Gaia data to Firefly\n",
    "\n",
    "*Building off of the tutorial here: http://gea.esac.esa.int/archive-help/index.html *\n",
    "\n",
    "*The main table is gaiadr2.gaia_source, and [here](http://gea.esac.esa.int/archive/documentation/GDR2/Gaia_archive/chap_datamodel/sec_dm_main_tables/ssec_dm_gaia_source.html) is the description of the columns*"
   ]
  },
  {
   "cell_type": "code",
   "execution_count": 1,
   "metadata": {},
   "outputs": [
    {
     "name": "stderr",
     "output_type": "stream",
     "text": [
      "/Users/ageller/anaconda/envs/py36/lib/python3.6/site-packages/h5py/__init__.py:36: FutureWarning: Conversion of the second argument of issubdtype from `float` to `np.floating` is deprecated. In future, it will be treated as `np.float64 == np.dtype(float).type`.\n",
      "  from ._conv import register_converters as _register_converters\n"
     ]
    }
   ],
   "source": [
    "%load_ext autoreload\n",
    "%autoreload 2\n",
    "from FIREreader import FIREreader"
   ]
  },
  {
   "cell_type": "code",
   "execution_count": 2,
   "metadata": {},
   "outputs": [
    {
     "name": "stdout",
     "output_type": "stream",
     "text": [
      "Created TAP+ (v1.0.1) - Connection:\n",
      "\tHost: gea.esac.esa.int\n",
      "\tUse HTTPS: False\n",
      "\tPort: 80\n",
      "\tSSL Port: 443\n"
     ]
    }
   ],
   "source": [
    "import astropy.units as u\n",
    "from astropy.coordinates import ICRS\n",
    "from astropy.coordinates.sky_coordinate import SkyCoord\n",
    "from astroquery.gaia import Gaia\n",
    "import numpy as np"
   ]
  },
  {
   "cell_type": "markdown",
   "metadata": {},
   "source": [
    "*Do the following to load and look at the available Gaia table names:*"
   ]
  },
  {
   "cell_type": "code",
   "execution_count": null,
   "metadata": {
    "scrolled": false
   },
   "outputs": [],
   "source": [
    "tables = Gaia.load_tables(only_names=True)\n",
    "for table in (tables):\n",
    "    print (table.get_qualified_name())"
   ]
  },
  {
   "cell_type": "code",
   "execution_count": null,
   "metadata": {
    "scrolled": true
   },
   "outputs": [],
   "source": [
    "gaiadr2_table = Gaia.load_table('gaiadr2.gaia_source')\n",
    "for column in (gaiadr2_table.get_columns()):\n",
    "    print(column.get_name())"
   ]
  },
  {
   "cell_type": "markdown",
   "metadata": {},
   "source": [
    "### Next, we retrieve the data \n",
    "\n",
    "*Note: The query to the archive is with ADQL (Astronomical Data Query Language). *"
   ]
  },
  {
   "cell_type": "code",
   "execution_count": 74,
   "metadata": {},
   "outputs": [
    {
     "name": "stdout",
     "output_type": "stream",
     "text": [
      "SELECT TOP 2000000 ra, dec, parallax, pmra, pmdec, radial_velocity FROM gaiadr2.gaia_source WHERE phot_g_mean_mag<=10 AND parallax IS NOT NULL \n"
     ]
    },
    {
     "name": "stderr",
     "output_type": "stream",
     "text": [
      "WARNING: W27: None:3:0: W27: COOSYS deprecated in VOTable 1.2 [astropy.io.votable.tree]\n",
      "WARNING: W35: None:5:0: W35: 'value' attribute required for INFO elements [astropy.io.votable.tree]\n",
      "WARNING: W35: None:6:0: W35: 'value' attribute required for INFO elements [astropy.io.votable.tree]\n",
      "WARNING: W35: None:7:0: W35: 'value' attribute required for INFO elements [astropy.io.votable.tree]\n",
      "WARNING: W35: None:8:0: W35: 'value' attribute required for INFO elements [astropy.io.votable.tree]\n",
      "WARNING: W35: None:10:0: W35: 'value' attribute required for INFO elements [astropy.io.votable.tree]\n",
      "WARNING: W50: None:21:0: W50: Invalid unit string 'mas.yr**-1' [astropy.io.votable.tree]\n",
      "WARNING: W50: None:24:0: W50: Invalid unit string 'mas.yr**-1' [astropy.io.votable.tree]\n",
      "WARNING: W50: None:27:0: W50: Invalid unit string 'km.s**-1' [astropy.io.votable.tree]\n"
     ]
    },
    {
     "name": "stdout",
     "output_type": "stream",
     "text": [
      "Query finished.\n",
      "<Table masked=True length=480235>\n",
      "      name       dtype     unit    format                description                 n_bad \n",
      "--------------- ------- ---------- ------ ------------------------------------------ ------\n",
      "             ra float64        deg {!r:>}                            Right ascension      0\n",
      "            dec float64        deg {!r:>}                                Declination      0\n",
      "       parallax float64        mas {!r:>}                                   Parallax      0\n",
      "           pmra float64 mas.yr**-1 {!r:>} Proper motion in right ascension direction      0\n",
      "          pmdec float64 mas.yr**-1 {!r:>}     Proper motion in declination direction      0\n",
      "radial_velocity float64   km.s**-1 {!r:>}                            Radial velocity 141769\n",
      "Jobid: 1525274887697O\n",
      "Phase: COMPLETED\n",
      "Owner: None\n",
      "Output file: async_20180502102807.vot\n",
      "Results: None\n"
     ]
    }
   ],
   "source": [
    "#NOTE: not all sources have RVs\n",
    "#cmd = \"SELECT TOP 100 ra, dec, parallax, pmra, pmdec, radial_velocity FROM gaiadr2.gaia_source\"\n",
    "\n",
    "#NOTE: It looks like there are 480235 sources with g <=10 and with parallaxes\n",
    "N = 2e6\n",
    "cmd = \"SELECT TOP \" + str(np.int(N))+ \" ra, dec, parallax, pmra, pmdec, radial_velocity FROM gaiadr2.gaia_source \\\n",
    "WHERE phot_g_mean_mag<=10 \\\n",
    "AND parallax IS NOT NULL \"#\\\n",
    "#AND radial_velocity IS NOT NULL\"\n",
    "print(cmd)\n",
    "\n",
    "#synchronous commands are OK for jobs with < 2000 output rows\n",
    "#job = Gaia.launch_job(cmd, dump_to_file=False) \n",
    "\n",
    "#asynchronous commands are giving me an error!\n",
    "job = Gaia.launch_job_async(cmd, dump_to_file=False)\n",
    "\n",
    "print (job)"
   ]
  },
  {
   "cell_type": "markdown",
   "metadata": {},
   "source": [
    "*Inspect the output table and number of rows:*"
   ]
  },
  {
   "cell_type": "code",
   "execution_count": 75,
   "metadata": {},
   "outputs": [
    {
     "name": "stdout",
     "output_type": "stream",
     "text": [
      "480235\n",
      "        ra                 dec         ...  radial_velocity  \n",
      "       deg                 deg         ...      km.s**-1     \n",
      "------------------ ------------------- ... ------------------\n",
      " 274.4061143187362  -36.76240607839242 ...                 --\n",
      "109.28559761663782 -37.097446909729776 ...                 --\n",
      "311.55470104855004   33.97165785643453 ...                 --\n",
      " 296.5649839440163  10.613253300439279 ...                 --\n",
      "236.06755715935202   6.425826685796823 ...                 --\n",
      "226.01721301839848 -25.282153195983703 ...                 --\n",
      " 275.2486775206737  -29.82821901708563 ...                 --\n",
      " 59.50763338363228 -13.508997297697881 ... 59.954691238798745\n",
      " 261.3248898046725  -55.52999303063296 ...                 --\n",
      "155.58177692208324    41.4996586971537 ...                 --\n",
      "               ...                 ... ...                ...\n",
      " 257.6789148577721  16.558220194211984 ... 19.998599315535344\n",
      " 56.22345202413663  16.863282853375424 ...  61.72266799473432\n",
      " 36.20533720290786   4.601269273010195 ... 28.686741007088116\n",
      "61.345850544631666 0.46045615753019303 ... 0.5229825827890942\n",
      "252.63081803223113 -53.113723776530136 ... -34.74295641058795\n",
      "121.50152657342399 -31.114243797707022 ...  44.54815601589799\n",
      " 174.2885444813545  -62.58244403720765 ...                 --\n",
      "261.66467426015873  -56.65681510313452 ...                 --\n",
      " 143.7173084481245 -1.3882634048892248 ...  8.277402356018206\n",
      "  80.7751055953241  11.101866556321031 ...  35.65578436823127\n",
      "Length = 480235 rows\n"
     ]
    }
   ],
   "source": [
    "r = job.get_results()\n",
    "print(len(r))\n",
    "print(r)"
   ]
  },
  {
   "cell_type": "markdown",
   "metadata": {},
   "source": [
    "### Convert these ra, dec, parallax coordinates to 3D cartesian"
   ]
  },
  {
   "cell_type": "code",
   "execution_count": 76,
   "metadata": {},
   "outputs": [
    {
     "name": "stdout",
     "output_type": "stream",
     "text": [
      "Number where parallax < 0 : 1283\n"
     ]
    },
    {
     "name": "stderr",
     "output_type": "stream",
     "text": [
      "/Users/ageller/anaconda/envs/py36/lib/python3.6/site-packages/ipykernel_launcher.py:12: UserWarning: Warning: converting a masked element to nan.\n",
      "  if sys.path[0] == '':\n"
     ]
    },
    {
     "name": "stdout",
     "output_type": "stream",
     "text": [
      "Number without RVs : 141769\n",
      "[(   3.1315411 ,  -40.64130966,  -30.45201359),\n",
      " ( -69.37069534,  198.25135221, -158.83565473),\n",
      " (  12.74090792,  -14.37330244,   12.94170654), ...,\n",
      " ( -42.86022242, -292.53338585, -449.35559793),\n",
      " (-592.33908293,  434.84088038,  -17.80786658),\n",
      " (  40.70484432,  250.62927038,   49.82438054)] pc\n",
      "[(-33.55327794, 21.29293495, -31.86804804),\n",
      " ( 16.67902548,  7.65774824,   2.27356602),\n",
      " ( 17.50045152, 40.82817405,  28.11561606), ...,\n",
      " ( 13.58923521, 19.68270006, -14.10972638),\n",
      " ( -2.68062977, 10.99605326,  16.01736404),\n",
      " (  9.49774092, 37.85362816, -12.99971284)] km / s\n"
     ]
    }
   ],
   "source": [
    "#it is odd that some of the parallaxes are negative!\n",
    "xx = np.where(r['parallax'] < 0)[0]\n",
    "print(\"Number where parallax < 0 :\", len(xx))\n",
    "dist = np.abs((r['parallax']).to(u.parsec, equivalencies=u.parallax()))\n",
    "\n",
    "#this only contains the position, and in cartesian it is much faster\n",
    "#astroC = SkyCoord(ra=r['ra'], dec=r['dec'], distance=dist).cartesian #transform_to(coord.Galactocentric)\n",
    "\n",
    "#this would account for velocities also\n",
    "pmra = np.array([x for x in r['pmra']]) * u.mas/u.yr\n",
    "pmdec = np.array([x for x in r['pmdec']]) * u.mas/u.yr\n",
    "rv = np.array([x for x in r['radial_velocity']]) * u.km/u.s \n",
    "xx = np.where(np.isnan(r['radial_velocity']) )[0]\n",
    "print(\"Number without RVs :\", len(xx))\n",
    "#################\n",
    "#################\n",
    "# what should we about missing RV data?\n",
    "#################\n",
    "#################\n",
    "for i in xx:\n",
    "    rv[i] = 0*u.km/u.s\n",
    "\n",
    "#NOTE: without RVs, the velocities are not correct\n",
    "astroC = ICRS(ra=r['ra'], dec=r['dec'], distance=dist, pm_ra_cosdec=pmra, pm_dec=pmdec, radial_velocity=rv)\n",
    "\n",
    "print(astroC.cartesian)\n",
    "print(astroC.velocity)"
   ]
  },
  {
   "cell_type": "markdown",
   "metadata": {},
   "source": [
    "*Now put these in the format expected by FIREreader, and convert to cartesian*"
   ]
  },
  {
   "cell_type": "code",
   "execution_count": 77,
   "metadata": {
    "scrolled": false
   },
   "outputs": [
    {
     "name": "stdout",
     "output_type": "stream",
     "text": [
      "[[    3.1315411    -40.64130966   -30.45201359]\n",
      " [  -69.37069534   198.25135221  -158.83565473]\n",
      " [   12.74090792   -14.37330244    12.94170654]\n",
      " [  160.33843567  -320.67781207    67.18262268]\n",
      " [  -14.08974221   -20.94212353     2.84272035]\n",
      " [  -79.24365749   -82.10856      -53.89665179]\n",
      " [  108.7320149  -1183.62180629  -681.49846896]\n",
      " [   26.02758967    44.19954352   -12.32302709]\n",
      " [  -31.68304766  -207.65290788  -305.97646536]\n",
      " [  -69.26527358    31.44668857    67.29982114]]\n",
      "[[ -33.55327794   21.29293495  -31.86804804]\n",
      " [  16.67902548    7.65774824    2.27356602]\n",
      " [  17.50045152   40.82817405   28.11561606]\n",
      " [  21.02644327   10.37017869   -0.68262904]\n",
      " [  14.19712109   -8.7897444     5.61358882]\n",
      " [ -25.83807412   38.62141367  -20.84814415]\n",
      " [ 230.46615975   88.51491928 -116.96158151]\n",
      " [  13.57355724   52.01586083  -41.42106981]\n",
      " [  -7.53879845   32.9227632   -21.56262377]\n",
      " [  30.10615173   35.05319079   14.60633989]]\n"
     ]
    }
   ],
   "source": [
    "p = astroC.cartesian\n",
    "v = astroC.velocity\n",
    "coordinates = np.dstack((p.x.to(u.pc).value, p.y.to(u.pc).value, p.z.to(u.pc).value)).squeeze()\n",
    "velocities = np.dstack((v.d_x.to(u.km/u.s).value, v.d_y.to(u.km/u.s).value, v.d_z.to(u.km/u.s).value)).squeeze()\n",
    "\n",
    " \n",
    "print(coordinates[0:10])\n",
    "print(velocities[0:10])"
   ]
  },
  {
   "cell_type": "markdown",
   "metadata": {},
   "source": [
    "### Create the Firefly data files using FIREreader"
   ]
  },
  {
   "cell_type": "code",
   "execution_count": 79,
   "metadata": {},
   "outputs": [
    {
     "name": "stdout",
     "output_type": "stream",
     "text": [
      "shuffling ... \n",
      "writing JSON files ...\n",
      "Gaia\n",
      "Gaia/GaiaDataOptions.json\n"
     ]
    }
   ],
   "source": [
    "pname = 'Gaia'\n",
    "\n",
    "reader = FIREreader()\n",
    "\n",
    "#set all of these manually\n",
    "reader.returnParts = [pname] \n",
    "reader.names = {pname:pname}\n",
    "reader.dataDir = pname\n",
    "reader.JSONfname = pname+'Data'\n",
    "\n",
    "#create a space for the data in partsDict\n",
    "reader.partsDict[pname] = dict()\n",
    "\n",
    "#define the defaults; this must be run first if you want to change the defaults below\n",
    "reader.defineDefaults()\n",
    "reader.defineFilterKeys()\n",
    "\n",
    "#update a few of the options\n",
    "reader.options['sizeMult'][pname] = 0.002\n",
    "reader.options['color'][pname] = [1., 1., 0., 1.]\n",
    "reader.options['center'] = [0,0,0]\n",
    "\n",
    "reader.addtodict(reader.partsDict,None,pname,'Coordinates',0,0,vals=coordinates)\n",
    "reader.addtodict(reader.partsDict,None,pname,'Velocities',0,0,vals=velocities)\n",
    "\n",
    "\n",
    "reader.shuffle_dict()\n",
    "reader.swap_dict_names()\n",
    "reader.createJSON()"
   ]
  },
  {
   "cell_type": "code",
   "execution_count": null,
   "metadata": {},
   "outputs": [],
   "source": []
  }
 ],
 "metadata": {
  "anaconda-cloud": {},
  "kernelspec": {
   "display_name": "Python 3",
   "language": "python",
   "name": "python3"
  },
  "language_info": {
   "codemirror_mode": {
    "name": "ipython",
    "version": 3
   },
   "file_extension": ".py",
   "mimetype": "text/x-python",
   "name": "python",
   "nbconvert_exporter": "python",
   "pygments_lexer": "ipython3",
   "version": "3.6.4"
  }
 },
 "nbformat": 4,
 "nbformat_minor": 1
}
