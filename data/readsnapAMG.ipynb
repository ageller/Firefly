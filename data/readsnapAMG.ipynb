{
 "cells": [
  {
   "cell_type": "markdown",
   "metadata": {},
   "source": [
    "# This script will convert the FIRE hdf5 files into a JSON data file that can be read into WebGLonFIRE \n"
   ]
  },
  {
   "cell_type": "markdown",
   "metadata": {},
   "source": [
    "### FIREreader is the class that will allow you to read in files within a directory , create the dictionary, and write out the json file\n",
    "\n",
    "#### Everything within \"init\" are defaults that can be modified by the user (see below)"
   ]
  },
  {
   "cell_type": "code",
   "execution_count": 1,
   "metadata": {},
   "outputs": [
    {
     "name": "stderr",
     "output_type": "stream",
     "text": [
      "/Users/ageller/anaconda/envs/py36/lib/python3.6/site-packages/h5py/__init__.py:36: FutureWarning: Conversion of the second argument of issubdtype from `float` to `np.floating` is deprecated. In future, it will be treated as `np.float64 == np.dtype(float).type`.\n",
      "  from ._conv import register_converters as _register_converters\n"
     ]
    }
   ],
   "source": [
    "from readsnap import FIREreader\n",
    "import numpy as np"
   ]
  },
  {
   "cell_type": "markdown",
   "metadata": {},
   "source": [
    "# Set the defaults and create the JSON"
   ]
  },
  {
   "cell_type": "code",
   "execution_count": 2,
   "metadata": {},
   "outputs": [
    {
     "name": "stdout",
     "output_type": "stream",
     "text": [
      "PartType0 {'PartType0': 'Gas', 'PartType1': 'HRDM', 'PartType2': 'LRDM', 'PartType4': 'Stars'}\n",
      "PartType4 {'PartType0': 'Gas', 'PartType1': 'HRDM', 'PartType2': 'LRDM', 'PartType4': 'Stars'}\n",
      "snapshot_050.hdf5\n",
      "decimating and shuffling ...\n",
      "decimating and shuffling ...\n",
      "PartType0 {'PartType0': 'Gas', 'PartType1': 'HRDM', 'PartType2': 'LRDM', 'PartType4': 'Stars'}\n",
      "PartType4 {'PartType0': 'Gas', 'PartType1': 'HRDM', 'PartType2': 'LRDM', 'PartType4': 'Stars'}\n",
      "writing JSON files ...\n",
      "FIREdataGas.json\n",
      "FIREdataStars.json\n"
     ]
    },
    {
     "ename": "NameError",
     "evalue": "name 'filenames' is not defined",
     "output_type": "error",
     "traceback": [
      "\u001b[0;31m---------------------------------------------------------------------------\u001b[0m",
      "\u001b[0;31mNameError\u001b[0m                                 Traceback (most recent call last)",
      "\u001b[0;32m<ipython-input-2-8d158731cc01>\u001b[0m in \u001b[0;36m<module>\u001b[0;34m()\u001b[0m\n\u001b[1;32m     60\u001b[0m \u001b[0;34m\u001b[0m\u001b[0m\n\u001b[1;32m     61\u001b[0m \u001b[0;31m#make the file\u001b[0m\u001b[0;34m\u001b[0m\u001b[0;34m\u001b[0m\u001b[0m\n\u001b[0;32m---> 62\u001b[0;31m \u001b[0mreader\u001b[0m\u001b[0;34m.\u001b[0m\u001b[0mrun\u001b[0m\u001b[0;34m(\u001b[0m\u001b[0;34m)\u001b[0m\u001b[0;34m\u001b[0m\u001b[0m\n\u001b[0m\u001b[1;32m     63\u001b[0m \u001b[0;34m\u001b[0m\u001b[0m\n\u001b[1;32m     64\u001b[0m \u001b[0;34m\u001b[0m\u001b[0m\n",
      "\u001b[0;32m/Volumes/highnoon2go/highnoon/Visualizations/Firefly/WebGLonFIRE/threejs/onGitHub/WebGLonFIRE_threejs/data/readsnap.py\u001b[0m in \u001b[0;36mrun\u001b[0;34m(self)\u001b[0m\n\u001b[1;32m    366\u001b[0m         \u001b[0mself\u001b[0m\u001b[0;34m.\u001b[0m\u001b[0mdefineFilterKeys\u001b[0m\u001b[0;34m(\u001b[0m\u001b[0;34m)\u001b[0m\u001b[0;34m\u001b[0m\u001b[0m\n\u001b[1;32m    367\u001b[0m         \u001b[0mself\u001b[0m\u001b[0;34m.\u001b[0m\u001b[0mpopulate_dict\u001b[0m\u001b[0;34m(\u001b[0m\u001b[0;34m)\u001b[0m\u001b[0;34m\u001b[0m\u001b[0m\n\u001b[0;32m--> 368\u001b[0;31m         \u001b[0mself\u001b[0m\u001b[0;34m.\u001b[0m\u001b[0mcreateJSON\u001b[0m\u001b[0;34m(\u001b[0m\u001b[0;34m)\u001b[0m\u001b[0;34m\u001b[0m\u001b[0m\n\u001b[0m\u001b[1;32m    369\u001b[0m         \u001b[0mprint\u001b[0m\u001b[0;34m(\u001b[0m\u001b[0;34m\"done\"\u001b[0m\u001b[0;34m)\u001b[0m\u001b[0;34m\u001b[0m\u001b[0m\n",
      "\u001b[0;32m/Volumes/highnoon2go/highnoon/Visualizations/Firefly/WebGLonFIRE/threejs/onGitHub/WebGLonFIRE_threejs/data/readsnap.py\u001b[0m in \u001b[0;36mcreateJSON\u001b[0;34m(self)\u001b[0m\n\u001b[1;32m    334\u001b[0m             \u001b[0mpd\u001b[0m\u001b[0;34m.\u001b[0m\u001b[0mSeries\u001b[0m\u001b[0;34m(\u001b[0m\u001b[0mself\u001b[0m\u001b[0;34m.\u001b[0m\u001b[0mpartsDict\u001b[0m\u001b[0;34m[\u001b[0m\u001b[0mp\u001b[0m\u001b[0;34m]\u001b[0m\u001b[0;34m)\u001b[0m\u001b[0;34m.\u001b[0m\u001b[0mto_json\u001b[0m\u001b[0;34m(\u001b[0m\u001b[0mfilenames\u001b[0m\u001b[0;34m[\u001b[0m\u001b[0mp\u001b[0m\u001b[0;34m]\u001b[0m\u001b[0;34m,\u001b[0m \u001b[0morient\u001b[0m\u001b[0;34m=\u001b[0m\u001b[0;34m'index'\u001b[0m\u001b[0;34m)\u001b[0m\u001b[0;34m\u001b[0m\u001b[0m\n\u001b[1;32m    335\u001b[0m         \u001b[0;31m#for the options\u001b[0m\u001b[0;34m\u001b[0m\u001b[0;34m\u001b[0m\u001b[0m\n\u001b[0;32m--> 336\u001b[0;31m         \u001b[0mself\u001b[0m\u001b[0;34m.\u001b[0m\u001b[0mcreateOptionsJSON\u001b[0m\u001b[0;34m(\u001b[0m\u001b[0;34m)\u001b[0m\u001b[0;34m\u001b[0m\u001b[0m\n\u001b[0m\u001b[1;32m    337\u001b[0m         \u001b[0;31m#the list of files\u001b[0m\u001b[0;34m\u001b[0m\u001b[0;34m\u001b[0m\u001b[0m\n\u001b[1;32m    338\u001b[0m         \u001b[0mpd\u001b[0m\u001b[0;34m.\u001b[0m\u001b[0mSeries\u001b[0m\u001b[0;34m(\u001b[0m\u001b[0mfilenames\u001b[0m\u001b[0;34m)\u001b[0m\u001b[0;34m.\u001b[0m\u001b[0mto_json\u001b[0m\u001b[0;34m(\u001b[0m\u001b[0;34m'filenames.json'\u001b[0m\u001b[0;34m,\u001b[0m \u001b[0morient\u001b[0m\u001b[0;34m=\u001b[0m\u001b[0;34m'index'\u001b[0m\u001b[0;34m)\u001b[0m\u001b[0;34m\u001b[0m\u001b[0m\n",
      "\u001b[0;32m/Volumes/highnoon2go/highnoon/Visualizations/Firefly/WebGLonFIRE/threejs/onGitHub/WebGLonFIRE_threejs/data/readsnap.py\u001b[0m in \u001b[0;36mcreateOptionsJSON\u001b[0;34m(self)\u001b[0m\n\u001b[1;32m    339\u001b[0m \u001b[0;34m\u001b[0m\u001b[0m\n\u001b[1;32m    340\u001b[0m     \u001b[0;32mdef\u001b[0m \u001b[0mcreateOptionsJSON\u001b[0m\u001b[0;34m(\u001b[0m\u001b[0mself\u001b[0m\u001b[0;34m)\u001b[0m\u001b[0;34m:\u001b[0m\u001b[0;34m\u001b[0m\u001b[0m\n\u001b[0;32m--> 341\u001b[0;31m         \u001b[0mfilenames\u001b[0m\u001b[0;34m[\u001b[0m\u001b[0;34m'options'\u001b[0m\u001b[0;34m]\u001b[0m \u001b[0;34m=\u001b[0m \u001b[0mself\u001b[0m\u001b[0;34m.\u001b[0m\u001b[0mJSONfname\u001b[0m\u001b[0;34m+\u001b[0m\u001b[0;34m'Options.json'\u001b[0m\u001b[0;34m\u001b[0m\u001b[0m\n\u001b[0m\u001b[1;32m    342\u001b[0m         \u001b[0mprint\u001b[0m\u001b[0;34m(\u001b[0m\u001b[0mfilenames\u001b[0m\u001b[0;34m[\u001b[0m\u001b[0;34m'options'\u001b[0m\u001b[0;34m]\u001b[0m\u001b[0;34m)\u001b[0m\u001b[0;34m\u001b[0m\u001b[0m\n\u001b[1;32m    343\u001b[0m         \u001b[0mpd\u001b[0m\u001b[0;34m.\u001b[0m\u001b[0mSeries\u001b[0m\u001b[0;34m(\u001b[0m\u001b[0mself\u001b[0m\u001b[0;34m.\u001b[0m\u001b[0moptions\u001b[0m\u001b[0;34m)\u001b[0m\u001b[0;34m.\u001b[0m\u001b[0mto_json\u001b[0m\u001b[0;34m(\u001b[0m\u001b[0mfilenames\u001b[0m\u001b[0;34m[\u001b[0m\u001b[0;34m'options'\u001b[0m\u001b[0;34m]\u001b[0m\u001b[0;34m,\u001b[0m \u001b[0morient\u001b[0m\u001b[0;34m=\u001b[0m\u001b[0;34m'index'\u001b[0m\u001b[0;34m)\u001b[0m\u001b[0;34m\u001b[0m\u001b[0m\n",
      "\u001b[0;31mNameError\u001b[0m: name 'filenames' is not defined"
     ]
    }
   ],
   "source": [
    "#a user defined function to calculate the radius, usekey must be partRadius\n",
    "def calcRadius(self, data, snap, p):\n",
    "    if ('SmoothingLength' in snap[p]):\n",
    "        #print(\"calculating SmoothinLength radius\", p)\n",
    "        self.addtodict(data, snap, p, 'SmoothingLength', False, False, usekey=\"partRadius\")\n",
    "\n",
    "#a user defined function to calculate the weights, usekey must be partWeight\n",
    "def calcWeight(self, data, snap, p):\n",
    "    if ('Density' in snap[p]):\n",
    "        #print(\"calculating Density weight\", p)\n",
    "        self.addtodict(data, snap, p, 'Density', False, False, usekey=\"partWeight\", mfac = 100000.)\n",
    "\n",
    "\n",
    "reader = FIREreader()\n",
    "\n",
    "#modify the defaults here\n",
    "#reader.directory = \"/Users/ageller/Visualizations/Firefly/snapdir_440\"\n",
    "reader.directory = \"/Users/ageller/Visualizations/Firefly/snapdir_050\"\n",
    "#reader.directory = \"/Users/agurvich/research/snaps/Control_G4_20/snapdir_050\"\n",
    "decimate = [100., 100.]\n",
    "\n",
    "reader.returnParts = ['PartType0', 'PartType4']\n",
    "reader.names = {'PartType0':'Gas', \n",
    "                  'PartType1':'HRDM', \n",
    "                  'PartType2':'LRDM', \n",
    "                  'PartType4':'Stars' }\n",
    "\n",
    "#define the defaults; this must be run first if you want to change the defaults below\n",
    "reader.defineDefaults()\n",
    "\n",
    "#reader.options['title'] = 'my title'\n",
    "\n",
    "for i,p in enumerate(reader.returnParts):\n",
    "    reader.decimate[p] = decimate[i]\n",
    "    reader.returnKeys[p] = ['Coordinates', 'Density','Velocities']\n",
    "    reader.addFilter[p] = [False, True, False]\n",
    "    reader.dolog[p] = [False, True, False]\n",
    "    reader.domag[p] = [False, False, False]#NOTE: calculating the magnitudes takes time. (I calculate magnitude of velocity, if Velocities is supplied, in the web app)..\n",
    "\n",
    "    reader.radiusFunction[p] = calcRadius\n",
    "    reader.sizeMult[p] = 0.1\n",
    "    reader.nMaxPlot[p] = 1e10\n",
    "\n",
    "    reader.weightFunction[p] = calcWeight\n",
    "    \n",
    "    pp = reader.names[p]\n",
    "    #reader.options['UIdropdown'][pp] = 1\n",
    "    #reader.options['UIcolorPicker'][pp] = 0\n",
    "    \n",
    "reader.colors = {'PartType0': [1., 0., 0., 1.],  \n",
    "           'PartType1': [1., 1., 0., 0.1],  \n",
    "           'PartType2': [1., 1., 0., 0.1],  \n",
    "           'PartType4': [0., 0., 1., 0.1] } \n",
    "\n",
    "        \n",
    "reader.showkeys = False\n",
    "\n",
    "reader.options['center'] = np.array([0., 0., 0.])\n",
    "reader.options['camera'] = np.array([-55.11, -21.17, -43.34])\n",
    "\n",
    "#make the file\n",
    "reader.run()\n",
    "\n",
    "\n",
    "\n"
   ]
  },
  {
   "cell_type": "markdown",
   "metadata": {},
   "source": [
    "## Testing IFrames for the WebGL application\n",
    "#### Not clear how to get the SimpleHTTPServer to run (or if it's even necessary)"
   ]
  },
  {
   "cell_type": "code",
   "execution_count": null,
   "metadata": {},
   "outputs": [],
   "source": [
    "import os\n",
    "import signal\n",
    "import subprocess\n",
    "directory = \"/Users/ageller/Visualizations/Firefly/WebGLonFIRE/threejs/onGitHub/WebGLonFIRE_threejs\"\n",
    "cmd = \"pushd \" + directory + \" ; python -m SimpleHTTPServer; popd\"\n",
    "pro = subprocess.Popen(cmd, stdout = subprocess.PIPE, shell = True, preexec_fn = os.setsid) "
   ]
  },
  {
   "cell_type": "code",
   "execution_count": null,
   "metadata": {
    "scrolled": false
   },
   "outputs": [],
   "source": [
    "from IPython.display import IFrame\n",
    "\n",
    "url = \"http://localhost:8000/\"\n",
    "IFrame(url, width=700, height=700)"
   ]
  },
  {
   "cell_type": "code",
   "execution_count": null,
   "metadata": {},
   "outputs": [],
   "source": [
    "os.killpg(os.getpgid(pro.pid), signal.SIGTERM)  # Send the signal to all the process groups"
   ]
  },
  {
   "cell_type": "code",
   "execution_count": null,
   "metadata": {},
   "outputs": [],
   "source": []
  }
 ],
 "metadata": {
  "anaconda-cloud": {},
  "kernelspec": {
   "display_name": "Python 3",
   "language": "python",
   "name": "python3"
  },
  "language_info": {
   "codemirror_mode": {
    "name": "ipython",
    "version": 3
   },
   "file_extension": ".py",
   "mimetype": "text/x-python",
   "name": "python",
   "nbconvert_exporter": "python",
   "pygments_lexer": "ipython3",
   "version": "3.6.4"
  }
 },
 "nbformat": 4,
 "nbformat_minor": 2
}
