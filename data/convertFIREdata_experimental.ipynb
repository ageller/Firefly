{
 "cells": [
  {
   "cell_type": "markdown",
   "metadata": {},
   "source": [
    "# Convert FIRE data\n",
    "\n",
    "This script will convert the FIRE .hdf5 files into a .json data files that can be read into Firefly. \n",
    "\n",
    "FIREreader is the class that will allow you to read in files within a directory, create the dictionary, and write out the json files"
   ]
  },
  {
   "cell_type": "code",
   "execution_count": 1,
   "metadata": {},
   "outputs": [
    {
     "name": "stderr",
     "output_type": "stream",
     "text": [
      "/Users/ageller/anaconda/envs/py36/lib/python3.6/site-packages/h5py/__init__.py:36: FutureWarning: Conversion of the second argument of issubdtype from `float` to `np.floating` is deprecated. In future, it will be treated as `np.float64 == np.dtype(float).type`.\n",
      "  from ._conv import register_converters as _register_converters\n"
     ]
    }
   ],
   "source": [
    "%load_ext autoreload\n",
    "%autoreload 2\n",
    "\n",
    "from FIREreader import FIREreader\n",
    "import numpy as np"
   ]
  },
  {
   "cell_type": "markdown",
   "metadata": {},
   "source": [
    "### Set the defaults and create the .json files"
   ]
  },
  {
   "cell_type": "code",
   "execution_count": 2,
   "metadata": {},
   "outputs": [
    {
     "name": "stdout",
     "output_type": "stream",
     "text": [
      "/Users/ageller/Visualizations/Firefly/snapdir_440/snapshot_440.0.hdf5\n",
      "/Users/ageller/Visualizations/Firefly/snapdir_440/snapshot_440.1.hdf5\n",
      "/Users/ageller/Visualizations/Firefly/snapdir_440/snapshot_440.2.hdf5\n",
      "/Users/ageller/Visualizations/Firefly/snapdir_440/snapshot_440.3.hdf5\n",
      "decimating and shuffling ...\n",
      "decimating and shuffling ...\n",
      "writing JSON files ...\n",
      "Gas\n",
      "Stars\n",
      "snapdir_440/FIREdataOptions.json\n",
      "done\n"
     ]
    }
   ],
   "source": [
    "#a user defined function to calculate the radius, usekey must be partRadius\n",
    "def calcRadius(self, data, snap, p):\n",
    "    if ('SmoothingLength' in snap[p]):\n",
    "        #print(\"calculating SmoothinLength radius\", p)\n",
    "        self.addtodict(data, snap, p, 'SmoothingLength', False, False, usekey=\"partRadius\")\n",
    "\n",
    "#a user defined function to calculate the weights, usekey must be partWeight\n",
    "def calcWeight(self, data, snap, p):\n",
    "    if ('Density' in snap[p]):\n",
    "        #print(\"calculating Density weight\", p)\n",
    "        self.addtodict(data, snap, p, 'Density', False, False, usekey=\"partWeight\", mfac = 100000.)\n",
    "\n",
    "\n",
    "reader = FIREreader()\n",
    "\n",
    "#modify the defaults here\n",
    "#reader.directory = \"/Users/ageller/Visualizations/Firefly/snapdir_440\"\n",
    "reader.directory = \"/Users/ageller/Visualizations/Firefly\"\n",
    "#reader.directory = \"/Users/agurvich/research/snaps/Control_G4_20/snapdir_050\"\n",
    "#reader.directory = \"/projects/b1026/agurvich/isoDisk/makeNewDisk_tests/rescaled_snonly/rescaled_fiducial/output/\"\n",
    "#reader.directory = \"/projects/b1026/agurvich/cosmo/m12i_res7000_latte/output/\"\n",
    "\n",
    "#reader.snapnum = 50\n",
    "reader.snapnum = 440\n",
    "\n",
    "\n",
    "reader.returnParts = ['PartType0', 'PartType4']\n",
    "reader.names = {'PartType0':'Gas', \n",
    "                  'PartType1':'HRDM', \n",
    "                  'PartType2':'LRDM', \n",
    "                  'PartType4':'Stars' }\n",
    "\n",
    "#define the defaults; this must be run first if you want to change the defaults below\n",
    "reader.defineDefaults()\n",
    "\n",
    "decimate = [100., 100.]\n",
    "\n",
    "for i,p in enumerate(reader.returnParts):\n",
    "    reader.decimate[p] = decimate[i]\n",
    "    reader.returnKeys[p] = ['Coordinates', 'Density','Velocities']\n",
    "    reader.addFilter[p] = [False, True, False]\n",
    "    reader.dolog[p] = [False, True, False]\n",
    "    reader.domag[p] = [False, False, False]#NOTE: calculating the magnitudes takes time. (I calculate magnitude of velocity, if Velocities is supplied, in the web app)..\n",
    "\n",
    "#    reader.radiusFunction[p] = calcRadius #currently not implemented in the web app\n",
    "    reader.sizeMult[p] = 0.01\n",
    "    reader.nMaxPlot[p] = 1e10\n",
    "\n",
    "#    reader.weightFunction[p] = calcWeight #currently not implemented in the web app\n",
    "    \n",
    "    pp = reader.names[p]\n",
    "    #reader.options['UIdropdown'][pp] = 1\n",
    "    #reader.options['UIcolorPicker'][pp] = 0\n",
    "    \n",
    "reader.colors = {'PartType0': [1., 0., 0., 1.],  \n",
    "           'PartType1': [1., 1., 0., 0.1],  \n",
    "           'PartType2': [1., 1., 0., 0.1],  \n",
    "           'PartType4': [0., 0., 1., 0.1] } \n",
    "\n",
    "        \n",
    "reader.showkeys = False\n",
    "\n",
    "#good starting point for snap050\n",
    "#reader.options['center'] = np.array([0., 0., 0.])\n",
    "#reader.options['camera'] = np.array([-55.11, -21.17, -43.34])\n",
    "\n",
    "#reader.options['UI'] = False\n",
    "#reader.options['cameraRotation'] = np.array([2.138, -0.911, -0.704])\n",
    "\n",
    "\n",
    "#make the file\n",
    "reader.run()\n",
    "\n",
    "\n",
    "\n"
   ]
  },
  {
   "cell_type": "markdown",
   "metadata": {},
   "source": [
    "## Testing IFrames for the WebGL application\n",
    "#### Not clear how to get the SimpleHTTPServer to run (or if it's even necessary)"
   ]
  },
  {
   "cell_type": "code",
   "execution_count": 3,
   "metadata": {
    "collapsed": true
   },
   "outputs": [],
   "source": [
    "import os\n",
    "import signal\n",
    "import subprocess\n",
    "directory = \"/Users/ageller/Visualizations/Firefly/WebGLonFIRE/threejs/onGitHub/Firefly\"\n",
    "cmd = \"pushd \" + directory + \" ; python -m SimpleHTTPServer; popd\"\n",
    "pro = subprocess.Popen(cmd, stdout = subprocess.PIPE, shell = True, preexec_fn = os.setsid) "
   ]
  },
  {
   "cell_type": "code",
   "execution_count": null,
   "metadata": {
    "collapsed": true,
    "scrolled": false
   },
   "outputs": [],
   "source": [
    "from IPython.display import IFrame\n",
    "\n",
    "url = \"http://localhost:8000/\"\n",
    "IFrame(url, width=700, height=700)"
   ]
  },
  {
   "cell_type": "code",
   "execution_count": 5,
   "metadata": {
    "collapsed": true
   },
   "outputs": [],
   "source": [
    "os.killpg(os.getpgid(pro.pid), signal.SIGTERM)  # Send the signal to all the process groups"
   ]
  },
  {
   "cell_type": "code",
   "execution_count": null,
   "metadata": {
    "collapsed": true
   },
   "outputs": [],
   "source": []
  }
 ],
 "metadata": {
  "anaconda-cloud": {},
  "kernelspec": {
   "display_name": "Python 3",
   "language": "python",
   "name": "python3"
  },
  "language_info": {
   "codemirror_mode": {
    "name": "ipython",
    "version": 3
   },
   "file_extension": ".py",
   "mimetype": "text/x-python",
   "name": "python",
   "nbconvert_exporter": "python",
   "pygments_lexer": "ipython3",
   "version": "3.6.4"
  }
 },
 "nbformat": 4,
 "nbformat_minor": 2
}
