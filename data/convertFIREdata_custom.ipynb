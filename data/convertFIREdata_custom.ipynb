{
 "cells": [
  {
   "cell_type": "markdown",
   "metadata": {},
   "source": [
    "# Convert FIRE data\n",
    "\n",
    "This script will convert the FIRE .hdf5 files into a .json data files that can be read into Firefly. \n",
    "\n",
    "FIREreader is the class that will allow you to read in files within a directory, create the dictionary, and write out the json files"
   ]
  },
  {
   "cell_type": "code",
   "execution_count": 2,
   "metadata": {},
   "outputs": [
    {
     "name": "stdout",
     "output_type": "stream",
     "text": [
      "The autoreload extension is already loaded. To reload it, use:\n",
      "  %reload_ext autoreload\n"
     ]
    }
   ],
   "source": [
    "%load_ext autoreload\n",
    "%autoreload 2\n",
    "\n",
    "from FIREreader import FIREreader\n",
    "import numpy as np"
   ]
  },
  {
   "cell_type": "markdown",
   "metadata": {},
   "source": [
    "### Set the defaults and create the .json files"
   ]
  },
  {
   "cell_type": "code",
   "execution_count": 3,
   "metadata": {},
   "outputs": [
    {
     "name": "stdout",
     "output_type": "stream",
     "text": [
      "/Users/ageller/Visualizations/Firefly/snapdir_050/snapshot_050.0.hdf5\n",
      "/Users/ageller/Visualizations/Firefly/snapdir_050/snapshot_050.0.hdf5\n",
      "PartType4 has no Density\n",
      "decimating and shuffling ...\n",
      "decimating and shuffling ...\n",
      "dataDir isolatedGalaxy_s50\n",
      "writing JSON files ...\n",
      "Gas\n",
      "Stars\n",
      "isolatedGalaxy_s50/FIREdataOptions.json\n",
      "done\n"
     ]
    }
   ],
   "source": [
    "reader = FIREreader()\n",
    "\n",
    "reader.directory = \"/Users/ageller/Visualizations/Firefly\"\n",
    "reader.snapnum = 50\n",
    "reader.dataDir = \"isolatedGalaxy_s50\"\n",
    "\n",
    "\n",
    "reader.returnParts = ['PartType0', 'PartType4']\n",
    "reader.names = {'PartType0':'Gas', \n",
    "                'PartType1':'HRDM', \n",
    "                'PartType2':'LRDM', \n",
    "                'PartType4':'Stars'}\n",
    "\n",
    "#define the defaults; this must be run first if you want to change the defaults below\n",
    "reader.defineDefaults()\n",
    "\n",
    "decimate = [10., 100.]\n",
    "\n",
    "for i,p in enumerate(reader.returnParts):\n",
    "    reader.decimate[p] = decimate[i]\n",
    "    reader.returnKeys[p] = ['Coordinates', 'Density','Velocities']\n",
    "    #Note: you should only try to filter on scalar values (like density).  \n",
    "    #The magnitude of the Velocities are calculated in Firefly, and you will automatically be allowed to filter on it\n",
    "    reader.addFilter[p] = [False, True, False]\n",
    "    reader.dolog[p] = [False, True, False]\n",
    "\n",
    "    #NOTE: all dictionaries in the \"options\" reference the swapped names (i.e., reader.names) you define above.  \n",
    "    #If you don't define reader.names, then you can use the default keys from the hdf5 files \n",
    "    #(but then you will see those hdf5 names in the Firefly GUI)\n",
    "    pp = reader.names[p]\n",
    "    reader.options['sizeMult'][pp] = 0.3\n",
    "\n",
    "reader.options['color'] = {'Gas':  [1., 0., 0., 1.],  \n",
    "                           'HRDM': [1., 1., 0., 0.1],  \n",
    "                           'LRDM': [1., 1., 0., 0.1],  \n",
    "                           'Stars':[0., 0., 1., 1.]} \n",
    "\n",
    "reader.options['center'] = np.array([0., 0., 0.])\n",
    "\n",
    "\n",
    "#make the file\n",
    "reader.run()\n",
    "\n",
    "\n",
    "\n"
   ]
  },
  {
   "cell_type": "markdown",
   "metadata": {
    "collapsed": true
   },
   "source": [
    "### Create a preset file\n"
   ]
  },
  {
   "cell_type": "code",
   "execution_count": 6,
   "metadata": {},
   "outputs": [
    {
     "name": "stdout",
     "output_type": "stream",
     "text": [
      "title : Firefly\n",
      "UI : True\n",
      "UIparticle : {'Gas': True, 'Stars': True}\n",
      "UIdropdown : {'Gas': True, 'Stars': True}\n",
      "UIcolorPicker : {'Gas': True, 'Stars': True}\n",
      "UIfullscreen : True\n",
      "UIsnapshot : True\n",
      "UIreset : True\n",
      "UIsavePreset : True\n",
      "UIloadNewData : True\n",
      "UIcameraControls : True\n",
      "UIdecimation : True\n",
      "center : [0. 0. 0.]\n",
      "camera : None\n",
      "cameraRotation : None\n",
      "maxVrange : 2000.0\n",
      "startFly : False\n",
      "friction : None\n",
      "stereo : False\n",
      "stereoSep : None\n",
      "decimate : None\n",
      "plotNmax : {}\n",
      "showVel : {}\n",
      "velType : {}\n",
      "color : {'Gas': [1.0, 0.0, 0.0, 1.0], 'HRDM': [1.0, 1.0, 0.0, 0.1], 'LRDM': [1.0, 1.0, 0.0, 0.1], 'Stars': [0.0, 0.0, 1.0, 0.1]}\n",
      "sizeMult : {'Gas': 0.3, 'Stars': 0.3}\n",
      "showParts : {'Gas': True, 'Stars': True}\n",
      "filterVals : {'Gas': {'log10Density': None, 'magVelocities': None}, 'Stars': {'log10Density': None, 'magVelocities': None}}\n",
      "filterLims : {'Gas': {'log10Density': None, 'magVelocities': None}, 'Stars': {'log10Density': None, 'magVelocities': None}}\n",
      "loaded : True\n"
     ]
    }
   ],
   "source": [
    "#print the options just to check what's there\n",
    "for k in reader.options.keys():\n",
    "    print(k,':', reader.options[k])"
   ]
  },
  {
   "cell_type": "code",
   "execution_count": 7,
   "metadata": {},
   "outputs": [],
   "source": [
    "#update a few of the options, here to start by only showing the high-velocity outflows in Gas, as vectors\n",
    "\n",
    "reader.options['center'] = np.array([-0.11233689678565528, -2.3536859975959175, 0.020126853973307934])\n",
    "reader.options['camera'] = np.array([12.012246024501222, 16.51869122052115, 1.722756246574182])\n",
    "\n",
    "reader.options['sizeMult']['Gas'] = 0.4\n",
    "reader.options['showVel']['Gas'] = True\n",
    "reader.options['velType']['Gas'] = 'arrow'\n",
    "reader.options['maxVrange'] = 1000\n",
    "\n",
    "#Note: if you want to define the filterVals or filterLims above \n",
    "#(i.e. to define them before executing reader.run() and after definining reader.addFilter), \n",
    "#you would first need to execute reader.defineFilterKeys()  \n",
    "#(reader.defineFilterKeys() is executed within reader.run() )\n",
    "reader.options['filterVals']['Gas']['magVelocities'] = [500, 35000]\n",
    "\n",
    "reader.options['showParts']['Stars'] = False\n",
    "\n",
    "reader.createOptionsJSON(reader.dataDir + \"/velocityPreset.json\")\n",
    "\n",
    "#This created a file names velocityPreset.json within the data directory \n",
    "#  that can now be loaded as a preset from within Firefly"
   ]
  },
  {
   "cell_type": "code",
   "execution_count": null,
   "metadata": {},
   "outputs": [],
   "source": []
  }
 ],
 "metadata": {
  "anaconda-cloud": {},
  "kernelspec": {
   "display_name": "Python 3",
   "language": "python",
   "name": "python3"
  },
  "language_info": {
   "codemirror_mode": {
    "name": "ipython",
    "version": 3
   },
   "file_extension": ".py",
   "mimetype": "text/x-python",
   "name": "python",
   "nbconvert_exporter": "python",
   "pygments_lexer": "ipython3",
   "version": "3.6.4"
  }
 },
 "nbformat": 4,
 "nbformat_minor": 2
}
