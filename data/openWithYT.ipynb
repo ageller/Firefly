{
 "cells": [
  {
   "cell_type": "code",
   "execution_count": 1,
   "metadata": {},
   "outputs": [],
   "source": [
    "import yt\n",
    "import firefly.dataParser\n",
    "import firefly.snapshot_utils"
   ]
  },
  {
   "cell_type": "code",
   "execution_count": 2,
   "metadata": {},
   "outputs": [],
   "source": [
    "import os\n",
    "def load_AHF(directory,snapnum,current_redshift,hubble = 0.702):\n",
    "        path = os.path.join(directory,'../halo/ahf/halo_00000_smooth.dat')\n",
    "        \n",
    "        ## find column numbers without having to count\n",
    "        names_to_read = ['snum','Xc','Yc','Zc','Rvir','v_esc','Rstar0.5']\n",
    "        \n",
    "        ## load the first line of the datafile\n",
    "        names = list(np.genfromtxt(path,skip_header=0,max_rows = 1,dtype=str))\n",
    "        cols = []\n",
    "\n",
    "        ## find the column each name appears in\n",
    "        for name in names_to_read:\n",
    "            cols+=[names.index(name)]\n",
    "\n",
    "        ## load the rest of the file\n",
    "        sns,xs,ys,zs, rvirs, vescs, rstar_halfs = np.genfromtxt(\n",
    "            path,delimiter='\\t',usecols=cols,unpack=1,skip_header=1)\n",
    "\n",
    "        ## which row do I care about? make an index array\n",
    "        index = sns==snapnum\n",
    "        if np.sum(index)==0:\n",
    "            ## snapnum is not in this halo file\n",
    "            raise IOError\n",
    "            \n",
    "        ## presumably in comoving kpc/h \n",
    "        halo_center = np.array([xs[index],ys[index],zs[index]])#/hubble*(1/(1+current_redshift))\n",
    "        halo_center = halo_center.reshape(3,)\n",
    "\n",
    "        ## convert other quantities one might care about from comoving kpc to pkpc\n",
    "        rvir = rvirs[index][0]/hubble/(1+current_redshift)\n",
    "        vesc = vescs[index][0]\n",
    "        rstar_half = rstar_halfs[index][0]/hubble/(1+current_redshift)\n",
    "        return halo_center, rvir, vesc, rstar_half"
   ]
  },
  {
   "cell_type": "code",
   "execution_count": 191,
   "metadata": {},
   "outputs": [],
   "source": [
    "halo_center,rvir,vesc,rstar_half = load_AHF(\n",
    "    \"/Users/agurvich/research/snaps/m12i_res7100/output/\",\n",
    "    600,\n",
    "    0)"
   ]
  },
  {
   "cell_type": "code",
   "execution_count": 192,
   "metadata": {},
   "outputs": [
    {
     "name": "stderr",
     "output_type": "stream",
     "text": [
      "yt : [INFO     ] 2019-03-04 16:34:46,337 Calculating time from 1.000e+00 to be 4.355e+17 seconds\n",
      "yt : [INFO     ] 2019-03-04 16:34:46,339 Assuming length units are in kpc/h (comoving)\n",
      "yt : [INFO     ] 2019-03-04 16:34:46,402 Parameters: current_time              = 4.3545571088051386e+17 s\n",
      "yt : [INFO     ] 2019-03-04 16:34:46,403 Parameters: domain_dimensions         = [2 2 2]\n",
      "yt : [INFO     ] 2019-03-04 16:34:46,404 Parameters: domain_left_edge          = [0. 0. 0.]\n",
      "yt : [INFO     ] 2019-03-04 16:34:46,406 Parameters: domain_right_edge         = [60000. 60000. 60000.]\n",
      "yt : [INFO     ] 2019-03-04 16:34:46,407 Parameters: cosmological_simulation   = 1\n",
      "yt : [INFO     ] 2019-03-04 16:34:46,408 Parameters: current_redshift          = 0.0\n",
      "yt : [INFO     ] 2019-03-04 16:34:46,409 Parameters: omega_lambda              = 0.728\n",
      "yt : [INFO     ] 2019-03-04 16:34:46,410 Parameters: omega_matter              = 0.272\n",
      "yt : [INFO     ] 2019-03-04 16:34:46,411 Parameters: omega_radiation           = 0.0\n",
      "yt : [INFO     ] 2019-03-04 16:34:46,412 Parameters: hubble_constant           = 0.702\n"
     ]
    }
   ],
   "source": [
    "ds = yt.load(\"/Users/agurvich/research/snaps/m12i_res7100/output/snapdir_600/snapshot_600.0.hdf5\")"
   ]
  },
  {
   "cell_type": "code",
   "execution_count": 204,
   "metadata": {},
   "outputs": [],
   "source": [
    "var = ds.particle_unions['all']"
   ]
  },
  {
   "cell_type": "code",
   "execution_count": 207,
   "metadata": {},
   "outputs": [
    {
     "data": {
      "text/plain": [
       "[('PartType0', 'Coordinates'),\n",
       " ('PartType0', 'Density'),\n",
       " ('PartType0', 'ElectronAbundance'),\n",
       " ('PartType0', 'InternalEnergy'),\n",
       " ('PartType0', 'Masses'),\n",
       " ('PartType0', 'Metallicity_00'),\n",
       " ('PartType0', 'Metallicity_01'),\n",
       " ('PartType0', 'Metallicity_02'),\n",
       " ('PartType0', 'Metallicity_03'),\n",
       " ('PartType0', 'Metallicity_04'),\n",
       " ('PartType0', 'Metallicity_05'),\n",
       " ('PartType0', 'Metallicity_06'),\n",
       " ('PartType0', 'Metallicity_07'),\n",
       " ('PartType0', 'Metallicity_08'),\n",
       " ('PartType0', 'Metallicity_09'),\n",
       " ('PartType0', 'Metallicity_10'),\n",
       " ('PartType0', 'Metallicity_11'),\n",
       " ('PartType0', 'Metallicity_12'),\n",
       " ('PartType0', 'Metallicity_13'),\n",
       " ('PartType0', 'Metallicity_14'),\n",
       " ('PartType0', 'Metallicity_15'),\n",
       " ('PartType0', 'Metallicity_16'),\n",
       " ('PartType0', 'NeutralHydrogenAbundance'),\n",
       " ('PartType0', 'ParticleIDs'),\n",
       " ('PartType0', 'Potential'),\n",
       " ('PartType0', 'SmoothingLength'),\n",
       " ('PartType0', 'StarFormationRate'),\n",
       " ('PartType0', 'Velocities'),\n",
       " ('PartType1', 'Coordinates'),\n",
       " ('PartType1', 'Masses'),\n",
       " ('PartType1', 'ParticleIDs'),\n",
       " ('PartType1', 'Potential'),\n",
       " ('PartType1', 'Velocities'),\n",
       " ('PartType2', 'Coordinates'),\n",
       " ('PartType2', 'Masses'),\n",
       " ('PartType2', 'ParticleIDs'),\n",
       " ('PartType2', 'Potential'),\n",
       " ('PartType2', 'Velocities'),\n",
       " ('PartType4', 'Coordinates'),\n",
       " ('PartType4', 'Masses'),\n",
       " ('PartType4', 'Metallicity_00'),\n",
       " ('PartType4', 'Metallicity_01'),\n",
       " ('PartType4', 'Metallicity_02'),\n",
       " ('PartType4', 'Metallicity_03'),\n",
       " ('PartType4', 'Metallicity_04'),\n",
       " ('PartType4', 'Metallicity_05'),\n",
       " ('PartType4', 'Metallicity_06'),\n",
       " ('PartType4', 'Metallicity_07'),\n",
       " ('PartType4', 'Metallicity_08'),\n",
       " ('PartType4', 'Metallicity_09'),\n",
       " ('PartType4', 'Metallicity_10'),\n",
       " ('PartType4', 'Metallicity_11'),\n",
       " ('PartType4', 'Metallicity_12'),\n",
       " ('PartType4', 'Metallicity_13'),\n",
       " ('PartType4', 'Metallicity_14'),\n",
       " ('PartType4', 'Metallicity_15'),\n",
       " ('PartType4', 'Metallicity_16'),\n",
       " ('PartType4', 'ParticleIDs'),\n",
       " ('PartType4', 'Potential'),\n",
       " ('PartType4', 'StellarFormationTime'),\n",
       " ('PartType4', 'Velocities'),\n",
       " ('all', 'Coordinates'),\n",
       " ('all', 'Masses'),\n",
       " ('all', 'ParticleIDs'),\n",
       " ('all', 'Potential'),\n",
       " ('all', 'Velocities')]"
      ]
     },
     "execution_count": 207,
     "metadata": {},
     "output_type": "execute_result"
    }
   ],
   "source": [
    "ds.field_list"
   ]
  },
  {
   "cell_type": "code",
   "execution_count": 5,
   "metadata": {},
   "outputs": [
    {
     "name": "stderr",
     "output_type": "stream",
     "text": [
      "yt : [INFO     ] 2019-03-04 14:40:14,346 Allocating for 1.467e+08 particles (index particle type 'all')\n",
      "yt : [INFO     ] 2019-03-04 14:40:42,560 Identified 8.952e+06 octs\n"
     ]
    }
   ],
   "source": [
    "sphere = ds.sphere(halo_center,(15,'kpc'))"
   ]
  },
  {
   "cell_type": "code",
   "execution_count": 149,
   "metadata": {},
   "outputs": [
    {
     "name": "stdout",
     "output_type": "stream",
     "text": [
      "Coordinates detected\n",
      "Density detected\n",
      "ElectronAbundance detected\n",
      "InternalEnergy detected\n",
      "Masses detected\n",
      "Metallicity_00 detected\n",
      "Metallicity_01 detected\n",
      "Metallicity_02 detected\n",
      "Metallicity_03 detected\n",
      "Metallicity_04 detected\n",
      "Metallicity_05 detected\n",
      "Metallicity_06 detected\n",
      "Metallicity_07 detected\n",
      "Metallicity_08 detected\n",
      "Metallicity_09 detected\n",
      "Metallicity_10 detected\n",
      "Metallicity_11 detected\n",
      "Metallicity_12 detected\n",
      "Metallicity_13 detected\n",
      "Metallicity_14 detected\n",
      "Metallicity_15 detected\n",
      "Metallicity_16 detected\n",
      "NeutralHydrogenAbundance detected\n",
      "ParticleIDs detected\n",
      "Potential detected\n",
      "SmoothingLength detected\n",
      "StarFormationRate detected\n",
      "Velocities detected\n",
      "Coordinates detected\n",
      "Masses detected\n",
      "ParticleIDs detected\n",
      "Potential detected\n",
      "Velocities detected\n",
      "Coordinates detected\n",
      "Masses detected\n",
      "Metallicity_00 detected\n",
      "Metallicity_01 detected\n",
      "Metallicity_02 detected\n",
      "Metallicity_03 detected\n",
      "Metallicity_04 detected\n",
      "Metallicity_05 detected\n",
      "Metallicity_06 detected\n",
      "Metallicity_07 detected\n",
      "Metallicity_08 detected\n",
      "Metallicity_09 detected\n",
      "Metallicity_10 detected\n",
      "Metallicity_11 detected\n",
      "Metallicity_12 detected\n",
      "Metallicity_13 detected\n",
      "Metallicity_14 detected\n",
      "Metallicity_15 detected\n",
      "Metallicity_16 detected\n",
      "ParticleIDs detected\n",
      "Potential detected\n",
      "StellarFormationTime detected\n",
      "Velocities detected\n",
      "outputting Particle Group of PartType0\n",
      "Contains 1670773 (167077 after dec) particles and 1 arrays\n",
      "\n",
      "['Velocities'] filter: [1.] colormap: [1.]\n",
      "outputting Particle Group of PartType1\n",
      "Contains 2489417 (248941 after dec) particles and 1 arrays\n",
      "\n",
      "['Velocities'] filter: [1.] colormap: [1.]\n",
      "outputting Particle Group of PartType4\n",
      "Contains 11670368 (1167036 after dec) particles and 1 arrays\n",
      "\n",
      "['Velocities'] filter: [1.] colormap: [1.]\n"
     ]
    }
   ],
   "source": [
    "output_region_to_firefly(sphere,write_files=1)"
   ]
  },
  {
   "cell_type": "code",
   "execution_count": 190,
   "metadata": {},
   "outputs": [
    {
     "data": {
      "text/plain": [
       "defaultdict(list,\n",
       "            {'io': ['particle_extra_field_1',\n",
       "              'particle_extra_field_2',\n",
       "              'particle_identity',\n",
       "              'particle_mass',\n",
       "              'particle_position_x',\n",
       "              'particle_position_y',\n",
       "              'particle_position_z',\n",
       "              'particle_refinement_level',\n",
       "              'particle_velocity_x',\n",
       "              'particle_velocity_y',\n",
       "              'particle_velocity_z']})"
      ]
     },
     "execution_count": 190,
     "metadata": {},
     "output_type": "execute_result"
    }
   ],
   "source": [
    "ramses_ds.all_data().ds.particle_fields_by_type"
   ]
  },
  {
   "cell_type": "code",
   "execution_count": 133,
   "metadata": {},
   "outputs": [
    {
     "name": "stderr",
     "output_type": "stream",
     "text": [
      "yt : [INFO     ] 2019-03-04 15:59:07,883 Parameters: current_time              = 0.0299468077820411\n",
      "yt : [INFO     ] 2019-03-04 15:59:07,884 Parameters: domain_dimensions         = [128 128 128]\n",
      "yt : [INFO     ] 2019-03-04 15:59:07,884 Parameters: domain_left_edge          = [0. 0. 0.]\n",
      "yt : [INFO     ] 2019-03-04 15:59:07,886 Parameters: domain_right_edge         = [1. 1. 1.]\n",
      "yt : [INFO     ] 2019-03-04 15:59:07,887 Parameters: cosmological_simulation   = 0\n"
     ]
    }
   ],
   "source": [
    "ramses_ds = yt.load(\"/Users/agurvich/Desktop/yt_workshop/DICEGalaxyDisk_nonCosmological/output_00002/info_00002.txt\")"
   ]
  },
  {
   "cell_type": "code",
   "execution_count": 172,
   "metadata": {},
   "outputs": [
    {
     "name": "stderr",
     "output_type": "stream",
     "text": [
      "yt : [INFO     ] 2019-03-04 16:22:19,722 Parameters: current_time              = 1.119216564055017\n",
      "yt : [INFO     ] 2019-03-04 16:22:19,723 Parameters: domain_dimensions         = [64 64 64]\n",
      "yt : [INFO     ] 2019-03-04 16:22:19,724 Parameters: domain_left_edge          = [0. 0. 0.]\n",
      "yt : [INFO     ] 2019-03-04 16:22:19,725 Parameters: domain_right_edge         = [1. 1. 1.]\n",
      "yt : [INFO     ] 2019-03-04 16:22:19,726 Parameters: cosmological_simulation   = 1\n",
      "yt : [INFO     ] 2019-03-04 16:22:19,727 Parameters: current_redshift          = 0.14255728632206321\n",
      "yt : [INFO     ] 2019-03-04 16:22:19,728 Parameters: omega_lambda              = 0.723999977111816\n",
      "yt : [INFO     ] 2019-03-04 16:22:19,729 Parameters: omega_matter              = 0.276000022888184\n",
      "yt : [INFO     ] 2019-03-04 16:22:19,730 Parameters: omega_radiation           = 0.0\n",
      "yt : [INFO     ] 2019-03-04 16:22:19,730 Parameters: hubble_constant           = 0.703000030517578\n"
     ]
    }
   ],
   "source": [
    "ramses_ds = yt.load(\"/Users/agurvich/Desktop/yt_workshop/output_00080/info_00080.txt\")"
   ]
  },
  {
   "cell_type": "code",
   "execution_count": 178,
   "metadata": {},
   "outputs": [],
   "source": [
    "region = ramses_ds.sphere(ramses_ds.domain_center,(1000,'kpc'))`"
   ]
  },
  {
   "cell_type": "code",
   "execution_count": 223,
   "metadata": {},
   "outputs": [
    {
     "name": "stdout",
     "output_type": "stream",
     "text": [
      "detected (but did not request) io particle_identity\n",
      "detected (but did not request) io particle_mass\n",
      "detected (but did not request) io particle_refinement_level\n",
      "outputting Particle Group of io\n",
      "Contains 1090895 (1090895 after dec) particles and 3 arrays\n",
      "\n",
      "['Velocities' 'particle_extra_field_1' 'particle_extra_field_2'] filter: [1. 1. 1.] colormap: [1. 1. 1.]\n"
     ]
    }
   ],
   "source": [
    "output_region_to_firefly(ramses_ds.all_data(),fields_to_include=['particle_extra_field_1','particle_extra_field_2'],write_files=1)"
   ]
  },
  {
   "cell_type": "code",
   "execution_count": 145,
   "metadata": {},
   "outputs": [
    {
     "data": {
      "text/plain": [
       "dict_keys([])"
      ]
     },
     "execution_count": 145,
     "metadata": {},
     "output_type": "execute_result"
    }
   ],
   "source": []
  },
  {
   "cell_type": "code",
   "execution_count": 19,
   "metadata": {},
   "outputs": [
    {
     "name": "stderr",
     "output_type": "stream",
     "text": [
      "yt : [INFO     ] 2019-03-05 09:18:30,748 Parameters: current_time              = 3.3488996201228216e+16 s\n",
      "yt : [INFO     ] 2019-03-05 09:18:30,749 Parameters: domain_dimensions         = [2 2 2]\n",
      "yt : [INFO     ] 2019-03-05 09:18:30,750 Parameters: domain_left_edge          = [0. 0. 0.]\n",
      "yt : [INFO     ] 2019-03-05 09:18:30,751 Parameters: domain_right_edge         = [16000. 16000. 16000.]\n",
      "yt : [INFO     ] 2019-03-05 09:18:30,752 Parameters: cosmological_simulation   = 1\n",
      "yt : [INFO     ] 2019-03-05 09:18:30,752 Parameters: current_redshift          = 4.0\n",
      "yt : [INFO     ] 2019-03-05 09:18:30,753 Parameters: omega_lambda              = 0.7\n",
      "yt : [INFO     ] 2019-03-05 09:18:30,754 Parameters: omega_matter              = 0.3\n",
      "yt : [INFO     ] 2019-03-05 09:18:30,755 Parameters: omega_radiation           = 0.0\n",
      "yt : [INFO     ] 2019-03-05 09:18:30,755 Parameters: hubble_constant           = 1.0\n"
     ]
    }
   ],
   "source": [
    "ds = yt.load(\"ahf_halos/snap_N64L16_062.parameter\")"
   ]
  },
  {
   "cell_type": "code",
   "execution_count": 33,
   "metadata": {},
   "outputs": [
    {
     "data": {
      "text/plain": [
       "[('all', 'Eax'),\n",
       " ('all', 'Eay'),\n",
       " ('all', 'Eaz'),\n",
       " ('all', 'Ebx'),\n",
       " ('all', 'Eby'),\n",
       " ('all', 'Ebz'),\n",
       " ('all', 'Ecx'),\n",
       " ('all', 'Ecy'),\n",
       " ('all', 'Ecz'),\n",
       " ('all', 'Ekin'),\n",
       " ('all', 'Epot'),\n",
       " ('all', 'ID'),\n",
       " ('all', 'Lx'),\n",
       " ('all', 'Ly'),\n",
       " ('all', 'Lz'),\n",
       " ('all', 'Mvir'),\n",
       " ('all', 'Phi0'),\n",
       " ('all', 'Rmax'),\n",
       " ('all', 'Rvir'),\n",
       " ('all', 'SurfP'),\n",
       " ('all', 'VXc'),\n",
       " ('all', 'VYc'),\n",
       " ('all', 'VZc'),\n",
       " ('all', 'Vmax'),\n",
       " ('all', 'Xc'),\n",
       " ('all', 'Yc'),\n",
       " ('all', 'Zc'),\n",
       " ('all', 'b'),\n",
       " ('all', 'c'),\n",
       " ('all', 'cNFW'),\n",
       " ('all', 'com_offset'),\n",
       " ('all', 'fMhires'),\n",
       " ('all', 'hostHalo'),\n",
       " ('all', 'lambda'),\n",
       " ('all', 'lambdaE'),\n",
       " ('all', 'mbp_offset'),\n",
       " ('all', 'nbins'),\n",
       " ('all', 'npart'),\n",
       " ('all', 'numSubStruct'),\n",
       " ('all', 'ovdens'),\n",
       " ('all', 'r2'),\n",
       " ('all', 'sigV'),\n",
       " ('all', 'v_esc'),\n",
       " ('halos', 'Eax'),\n",
       " ('halos', 'Eay'),\n",
       " ('halos', 'Eaz'),\n",
       " ('halos', 'Ebx'),\n",
       " ('halos', 'Eby'),\n",
       " ('halos', 'Ebz'),\n",
       " ('halos', 'Ecx'),\n",
       " ('halos', 'Ecy'),\n",
       " ('halos', 'Ecz'),\n",
       " ('halos', 'Ekin'),\n",
       " ('halos', 'Epot'),\n",
       " ('halos', 'ID'),\n",
       " ('halos', 'Lx'),\n",
       " ('halos', 'Ly'),\n",
       " ('halos', 'Lz'),\n",
       " ('halos', 'Mvir'),\n",
       " ('halos', 'Phi0'),\n",
       " ('halos', 'Rmax'),\n",
       " ('halos', 'Rvir'),\n",
       " ('halos', 'SurfP'),\n",
       " ('halos', 'VXc'),\n",
       " ('halos', 'VYc'),\n",
       " ('halos', 'VZc'),\n",
       " ('halos', 'Vmax'),\n",
       " ('halos', 'Xc'),\n",
       " ('halos', 'Yc'),\n",
       " ('halos', 'Zc'),\n",
       " ('halos', 'b'),\n",
       " ('halos', 'c'),\n",
       " ('halos', 'cNFW'),\n",
       " ('halos', 'com_offset'),\n",
       " ('halos', 'fMhires'),\n",
       " ('halos', 'hostHalo'),\n",
       " ('halos', 'lambda'),\n",
       " ('halos', 'lambdaE'),\n",
       " ('halos', 'mbp_offset'),\n",
       " ('halos', 'nbins'),\n",
       " ('halos', 'npart'),\n",
       " ('halos', 'numSubStruct'),\n",
       " ('halos', 'ovdens'),\n",
       " ('halos', 'r2'),\n",
       " ('halos', 'sigV'),\n",
       " ('halos', 'v_esc')]"
      ]
     },
     "execution_count": 33,
     "metadata": {},
     "output_type": "execute_result"
    }
   ],
   "source": [
    "ds.field_list"
   ]
  },
  {
   "cell_type": "code",
   "execution_count": 20,
   "metadata": {},
   "outputs": [],
   "source": [
    "all_halos = ds.all_data()"
   ]
  },
  {
   "cell_type": "code",
   "execution_count": 18,
   "metadata": {},
   "outputs": [
    {
     "data": {
      "text/plain": [
       "{'center': YTArray([8000., 8000., 8000.]) code_length,\n",
       " 'bulk_velocity': YTArray([0., 0., 0.]) cm/s,\n",
       " 'bulk_magnetic_field': YTArray([0., 0., 0.]) G,\n",
       " 'normal': YTArray([0., 0., 1.]) (dimensionless)}"
      ]
     },
     "execution_count": 18,
     "metadata": {},
     "output_type": "execute_result"
    }
   ],
   "source": [
    "all_halos.field_parameters"
   ]
  },
  {
   "cell_type": "code",
   "execution_count": 14,
   "metadata": {},
   "outputs": [],
   "source": [
    "all_halos.get_data()"
   ]
  },
  {
   "cell_type": "code",
   "execution_count": 59,
   "metadata": {},
   "outputs": [
    {
     "name": "stdout",
     "output_type": "stream",
     "text": [
      "detected (but did not request) halos Eax\n",
      "detected (but did not request) halos Eay\n",
      "detected (but did not request) halos Eaz\n",
      "detected (but did not request) halos Ebx\n",
      "detected (but did not request) halos Eby\n",
      "detected (but did not request) halos Ebz\n",
      "detected (but did not request) halos Ecx\n",
      "detected (but did not request) halos Ecy\n",
      "detected (but did not request) halos Ecz\n",
      "detected (but did not request) halos Ekin\n",
      "detected (but did not request) halos Epot\n",
      "detected (but did not request) halos ID\n",
      "detected (but did not request) halos Lx\n",
      "detected (but did not request) halos Ly\n",
      "detected (but did not request) halos Lz\n",
      "detected (but did not request) halos Phi0\n",
      "detected (but did not request) halos Rmax\n",
      "detected (but did not request) halos Rvir\n",
      "detected (but did not request) halos SurfP\n",
      "detected (but did not request) halos Vmax\n",
      "detected (but did not request) halos b\n",
      "detected (but did not request) halos c\n",
      "detected (but did not request) halos cNFW\n",
      "detected (but did not request) halos com_offset\n",
      "detected (but did not request) halos fMhires\n",
      "detected (but did not request) halos hostHalo\n",
      "detected (but did not request) halos lambda\n",
      "detected (but did not request) halos lambdaE\n",
      "detected (but did not request) halos mbp_offset\n",
      "detected (but did not request) halos nbins\n",
      "detected (but did not request) halos npart\n",
      "detected (but did not request) halos numSubStruct\n",
      "detected (but did not request) halos ovdens\n",
      "detected (but did not request) halos r2\n",
      "detected (but did not request) halos sigV\n",
      "detected (but did not request) halos v_esc\n",
      "outputting Particle Group of halos\n",
      "Contains 170 (170 after dec) particles and 2 arrays\n",
      "\n",
      "['Velocities' 'Mvir'] filter: [1. 1.] colormap: [1. 1.]\n"
     ]
    }
   ],
   "source": [
    "output_halo_catalog_to_firefly(all_halos,fields_to_include=['Mvir'],write_files=1)"
   ]
  },
  {
   "cell_type": "code",
   "execution_count": 84,
   "metadata": {},
   "outputs": [],
   "source": [
    "def quick_output_region_to_firefly(\n",
    "    region,\n",
    "    fields_to_include= [],\n",
    "    fields_units = [],\n",
    "    write_files=0):\n",
    "    \n",
    "    assert len(fields_units) == len(fields_to_include)\n",
    "    \n",
    "    ## initialize a firefly reader instance\n",
    "    reader = firefly.dataParser.Reader(\n",
    "    JSONdir=\"/Users/agurvich/research/repos/Firefly/data/yt\",\n",
    "    write_startup=1,\n",
    "    prefix='ytData',\n",
    "    clean_JSONdir=True\n",
    "    )\n",
    "\n",
    "    ## create a ParticleGroup object that contains *every* field\n",
    "    for ptype in sorted(region.ds.particle_types_raw):\n",
    "        ## skip this particle type if it has no particles in this region!\n",
    "        if region[ptype,'relative_particle_position'].shape[0]==0:\n",
    "            continue\n",
    "        \n",
    "        ## read the available extra fields from yt\n",
    "        this_ptype_fields = region.ds.particle_fields_by_type[ptype]\n",
    "        \n",
    "        ## define which fields we want to save\n",
    "        tracked_arrays = [region[ptype,'relative_particle_velocity'].convert_to_units('km/s')]\n",
    "        tracked_names = ['Velocities']\n",
    "        \n",
    "        ## load the extra fields\n",
    "        for field in this_ptype_fields:\n",
    "            if 'position' in field or 'velocity' in field:\n",
    "                continue\n",
    "            if field not in fields_to_include:\n",
    "                print('detected (but did not request)',ptype,field)\n",
    "                continue\n",
    "\n",
    "        ## explicitly go after the fields we want\n",
    "        for field,units in zip(fields_to_include,fields_units):\n",
    "            log_flag = 'log(' in units\n",
    "            \n",
    "            if field not in tracked_names:\n",
    "                try:\n",
    "                    this_field_array = region[ptype,field]\n",
    "                    if log_flag:\n",
    "                        units = units[len('log('):-1]\n",
    "                        field = 'log{}'.format(field)\n",
    "                        \n",
    "                    this_field_array.convert_to_units(units)\n",
    "                    \n",
    "                    if log_flag:\n",
    "                        this_field_array = np.log10(this_field_array)\n",
    "                    tracked_arrays +=[this_field_array]\n",
    "                    tracked_names = np.append(tracked_names,[field],axis=0)\n",
    "                except:\n",
    "                    raise\n",
    "        \n",
    "        ## flag whether we want to filter and/or color by these fields\n",
    "        tracked_filter_flags = np.ones(len(tracked_names))\n",
    "        tracked_colormap_flags = np.ones(len(tracked_names))\n",
    "                           \n",
    "\n",
    "        ## create a firefly ParticleGroup for this particle type\n",
    "        pg = firefly.dataParser.ParticleGroup(\n",
    "            UIname =  ptype,\n",
    "            coordinates=region[ptype,'relative_particle_position'].convert_to_units('kpc'),\n",
    "            tracked_arrays=tracked_arrays,\n",
    "            tracked_names=tracked_names,\n",
    "            tracked_filter_flags=tracked_filter_flags,\n",
    "            tracked_colormap_flags=tracked_colormap_flags,\n",
    "            decimation_factor=1\n",
    "            )\n",
    "        \n",
    "        ## bind this particle group to the firefly reader object\n",
    "        reader.addParticleGroup(pg)\n",
    "    if write_files:\n",
    "        reader.dumpToJSON(loud=0)"
   ]
  },
  {
   "cell_type": "code",
   "execution_count": 85,
   "metadata": {},
   "outputs": [
    {
     "name": "stdout",
     "output_type": "stream",
     "text": [
      "detected (but did not request) halos Eax\n",
      "detected (but did not request) halos Eay\n",
      "detected (but did not request) halos Eaz\n",
      "detected (but did not request) halos Ebx\n",
      "detected (but did not request) halos Eby\n",
      "detected (but did not request) halos Ebz\n",
      "detected (but did not request) halos Ecx\n",
      "detected (but did not request) halos Ecy\n",
      "detected (but did not request) halos Ecz\n",
      "detected (but did not request) halos Ekin\n",
      "detected (but did not request) halos Epot\n",
      "detected (but did not request) halos ID\n",
      "detected (but did not request) halos Lx\n",
      "detected (but did not request) halos Ly\n",
      "detected (but did not request) halos Lz\n",
      "detected (but did not request) halos Mvir\n",
      "detected (but did not request) halos Phi0\n",
      "detected (but did not request) halos Rmax\n",
      "detected (but did not request) halos Rvir\n",
      "detected (but did not request) halos SurfP\n",
      "detected (but did not request) halos VXc\n",
      "detected (but did not request) halos VYc\n",
      "detected (but did not request) halos VZc\n",
      "detected (but did not request) halos Vmax\n",
      "detected (but did not request) halos Xc\n",
      "detected (but did not request) halos Yc\n",
      "detected (but did not request) halos Zc\n",
      "detected (but did not request) halos b\n",
      "detected (but did not request) halos c\n",
      "detected (but did not request) halos cNFW\n",
      "detected (but did not request) halos com_offset\n",
      "detected (but did not request) halos fMhires\n",
      "detected (but did not request) halos hostHalo\n",
      "detected (but did not request) halos lambda\n",
      "detected (but did not request) halos lambdaE\n",
      "detected (but did not request) halos mbp_offset\n",
      "detected (but did not request) halos nbins\n",
      "detected (but did not request) halos npart\n",
      "detected (but did not request) halos numSubStruct\n",
      "detected (but did not request) halos ovdens\n",
      "detected (but did not request) halos r2\n",
      "detected (but did not request) halos sigV\n",
      "detected (but did not request) halos v_esc\n",
      "outputting Particle Group of halos\n",
      "Contains 170 (170 after dec) particles and 3 arrays\n",
      "\n",
      "['Velocities' 'logparticle_mass' 'particle_radius'] filter: [1. 1. 1.] colormap: [1. 1. 1.]\n"
     ]
    }
   ],
   "source": [
    "quick_output_region_to_firefly(\n",
    "    all_halos,\n",
    "    fields_to_include=['particle_mass','particle_radius'],\n",
    "    fields_units=['log(msun)','kpc'],\n",
    "    write_files=1)"
   ]
  },
  {
   "cell_type": "code",
   "execution_count": null,
   "metadata": {},
   "outputs": [],
   "source": []
  }
 ],
 "metadata": {
  "kernelspec": {
   "display_name": "Python 3",
   "language": "python",
   "name": "python3"
  },
  "language_info": {
   "codemirror_mode": {
    "name": "ipython",
    "version": 3
   },
   "file_extension": ".py",
   "mimetype": "text/x-python",
   "name": "python",
   "nbconvert_exporter": "python",
   "pygments_lexer": "ipython3",
   "version": "3.6.8"
  }
 },
 "nbformat": 4,
 "nbformat_minor": 2
}
