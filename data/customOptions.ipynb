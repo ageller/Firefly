{
 "cells": [
  {
   "cell_type": "code",
   "execution_count": 1,
   "metadata": {},
   "outputs": [],
   "source": [
    "from dataParser import Reader,ParticleGroup,Options"
   ]
  },
  {
   "cell_type": "markdown",
   "metadata": {},
   "source": [
    "## Managing Custom Options\n",
    "Options in Firefly refer to the different settings for app and come in a few flavors. Once you have an Options instance you can either use its `outputToJSON()` method to save it to file (for use later) or pass it to a Reader instance to link it to a visualization (see the documentation in customReader.ipynb).\n",
    "* #### Startup Options \n",
    "These define how the visualization looks at startup\n",
    "    * 'camera=None' - initial position of the camera\n",
    "    * 'center=[0,0,0]' - initial position of the camera focus \n",
    "    * 'cameraRotation=None' - quarternion defining the initial camera orientation\n",
    "    * 'stereoSep=None' - how far should the stereo separation be between 0-1, controls how \"3D\" it looks when in stereo mode\n",
    "    * 'stereo=False' - flag for whether the app should initialize in side-by-side stereo mode\n",
    "    * 'friction=None' - how much the camera should \"slide\" after you release the controls, from 0-1 (0 being rotating forever and 1 being stopping immediately).\n",
    "    * 'startFly=0' - flag for whether we should start in \"fly controls\" \n",
    "    * 'decimate=None' - flag for **additional** decimation **within the app** at startup, not to be mixed up with the ParticleGroup's `decimation_factor`!\n",
    "    * 'maxVrange=2000' - dynamic range for velocity when renormalizing velocity vectors\n",
    "* #### UI Options \n",
    "These define what parts of the UI will be enabled\n",
    "    * 'UI=True' - flag for whether the UI as a whole should be enabled\n",
    "    * 'UIfullscreen=True' - flag for whether the fullscreen button should be available to the user\n",
    "    * 'UIsnapshot=True' - flag for whether the screenshot button should be available to the user\n",
    "    * 'UIloadNewData=True' - flag for whether the load new dataset button should be available to the user\n",
    "    * 'UIcameraControls=True' - flag for whether the camera controls UI pane should be available to the user\n",
    "    * 'UIsavePreset=True' - flag for whether the save preset button should be available to the user (which outputs a preset JSON that you can load from within the app to get back to your app configuration)\n",
    "    * 'UIreset=True' - flag for whether the reset to preset button should be available to the user\n",
    "    * 'UIdecimation=True' - flag for whether the decimation slider should be available to the user\n",
    "* #### Window Options\n",
    "These options refer to the browser window itself\n",
    "    * 'loaded' - should not be adjusted, tells Firefly if it has finished loading data\n",
    "    * 'title' - the title that is displayed in the browser tab\n",
    "    \n",
    "---------------------------------------------------------------------------------------------------------------------------------------\n",
    "Options here are dictionaries for *each particle group* and are easiest to edit by changing a ParticleGroup's `options_default` dictionary and then using the options instance's `addToOptions(particleGroup)` method instead of manipulating them directly through the options. This will make sure the particleGroup's `UIname` matches and that all values are filled in correctly. \n",
    "* #### Particle UI Options\n",
    "    * 'UIparticle={}' - dictionary containing flags for whether a particle group's UI pane should appear to the user\n",
    "    * 'UIcolorPicker={}' - dictionary containing flags for whether a particle group's color picker should be available to the user\n",
    "    * 'UIdropdown={}' - dictionary containing flags for whether a particle group's advanced options dropdown menu should be available to the user\n",
    "* #### Particle Filter Options\n",
    "These should be dictionaries that contain the initial limits of the filters for particle groups with arrays that have been flagged to allow filtering. \n",
    "    * 'filterVals={}' - dictionary, containing dictionaries for each particle group that contain 2 element arrays that designate a filterable array's initial filter **settings**, these are the positions of the filter slider handles.\n",
    "    * 'filterLims={}' - dictionary, containing dictionaries for each particle group that contain 2 element arrays that designate a filterable array's initial filter **limits**, these are the bounds of the filter.\n",
    "* #### Particle Colormap Options\n",
    "These should be dictionaries that contain the initial limits of the filters for particle groups with arrays that have been flagged to allow colormapping. \n",
    "    * 'colormapVals={}' - dictionary, containing dictionaries for each particle group that contain 2 element arrays that designate a colormappable array's initial colormap **settings**, these are the positions of the colormap slider handles.\n",
    "    * 'colormapLims={}' - dictionary, containing dictionaries for each particle group that contain 2 element arrays that designate a colormappable array's initial colormap **limits**, these are the bounds of the colormap.\n",
    "* #### Particle Startup Options\"\n",
    "These define how an individual particle group is displayed at startup\n",
    "    * 'sizeMult={}' - dictionary containing floats that designate the initial size of the particles (in arbitrary units, unfortunately-- experiment to see what works best!!)\n",
    "    * 'color={}' - dictionary contained 4 element arrays that designate the initial color for a particle group\n",
    "    * 'showParts={}' - dictionary containing flags for whether a particle group should be visible at startup\n",
    "    * 'plotNmax={}' - dictionary containing integers that designate the maximum number of points from a particle group that should be shown\n",
    "    * 'showVel={}' - dictionary containing flags for whether a particle group should be displayed as velocity vectors\n",
    "    * 'velType={}' - dictionary containing integers (indices from 0-2) that designate what type of velocity vector to use (lines, arrows, cones)"
   ]
  },
  {
   "cell_type": "markdown",
   "metadata": {},
   "source": [
    "### Understanding Options kwargs\n",
    "`options_filename='Options.json'` - The name of the options file you want to save \n",
    "`**kwargs` - Options matching the ones defined above, they will be set to values you pass at initialization"
   ]
  },
  {
   "cell_type": "code",
   "execution_count": 2,
   "metadata": {},
   "outputs": [
    {
     "name": "stdout",
     "output_type": "stream",
     "text": [
      "-- window_options --\n",
      "title Firefly\n",
      "loaded True\n",
      "-- UI_options --\n",
      "UI True\n",
      "UIfullscreen True\n",
      "UIsnapshot True\n",
      "UIreset True\n",
      "UIsavePreset True\n",
      "UIloadNewData True\n",
      "UIcameraControls True\n",
      "UIdecimation True\n",
      "-- particle_UI_options --\n",
      "UIparticle {}\n",
      "UIdropdown {}\n",
      "UIcolorPicker {}\n",
      "-- startup_options --\n",
      "center [0. 0. 0.]\n",
      "camera None\n",
      "cameraRotation None\n",
      "maxVrange 2000.0\n",
      "startFly False\n",
      "friction None\n",
      "stereo False\n",
      "stereoSep None\n",
      "decimate None\n",
      "-- particle_startup_options --\n",
      "plotNmax {}\n",
      "showVel {}\n",
      "velType {}\n",
      "color {}\n",
      "sizeMult {}\n",
      "showParts {}\n",
      "-- particle_filter_options --\n",
      "filterVals {}\n",
      "filterLims {}\n",
      "-- particle_colormap_options --\n",
      "colormapVals {}\n",
      "colormapLims {}\n"
     ]
    }
   ],
   "source": [
    "## let's create an options object with the default keys, options values can be passed in as kwargs if we'd like to set them\n",
    "options = Options()\n",
    "options.listKeys()"
   ]
  },
  {
   "cell_type": "markdown",
   "metadata": {},
   "source": [
    "## Options can be changed the same way you would change a key in a dictionary\n",
    "There is key validation, so you won't be able to set arbitrary options but there is no value validation, so be careful that you use appropriate values or your app might not work!"
   ]
  },
  {
   "cell_type": "code",
   "execution_count": 3,
   "metadata": {},
   "outputs": [
    {
     "name": "stdout",
     "output_type": "stream",
     "text": [
      "-- window_options --\n",
      "title ---> My Favorite Data <--- \n",
      "loaded True\n",
      "-- UI_options --\n",
      "UI True\n",
      "UIfullscreen True\n",
      "UIsnapshot True\n",
      "UIreset True\n",
      "UIsavePreset True\n",
      "UIloadNewData True\n",
      "UIcameraControls True\n",
      "UIdecimation True\n",
      "-- particle_UI_options --\n",
      "UIparticle {}\n",
      "UIdropdown {}\n",
      "UIcolorPicker {}\n",
      "-- startup_options --\n",
      "center [0. 0. 0.]\n",
      "camera None\n",
      "cameraRotation None\n",
      "maxVrange 2000.0\n",
      "startFly False\n",
      "friction None\n",
      "stereo False\n",
      "stereoSep None\n",
      "decimate None\n",
      "-- particle_startup_options --\n",
      "plotNmax {}\n",
      "showVel {}\n",
      "velType {}\n",
      "color {}\n",
      "sizeMult {}\n",
      "showParts {}\n",
      "-- particle_filter_options --\n",
      "filterVals {}\n",
      "filterLims {}\n",
      "-- particle_colormap_options --\n",
      "colormapVals {}\n",
      "colormapLims {}\n"
     ]
    }
   ],
   "source": [
    "options['title']='---> My Favorite Data <--- '\n",
    "options.listKeys()"
   ]
  },
  {
   "cell_type": "markdown",
   "metadata": {},
   "source": [
    "## You can also load options files straight from JSON"
   ]
  },
  {
   "cell_type": "code",
   "execution_count": 4,
   "metadata": {},
   "outputs": [
    {
     "name": "stdout",
     "output_type": "stream",
     "text": [
      "replacing title\n",
      "---> My Favorite Data <---  --> Firefly\n",
      "replacing UIparticle\n",
      "{} --> {'partname': True}\n",
      "replacing UIdropdown\n",
      "{} --> {'partname': True}\n",
      "replacing UIcolorPicker\n",
      "{} --> {'partname': True}\n",
      "replacing plotNmax\n",
      "{} --> {'partname': None}\n",
      "replacing showVel\n",
      "{} --> {'partname': False}\n",
      "replacing velType\n",
      "{} --> {'partname': None}\n",
      "replacing color\n",
      "{} --> {'partname': [0, 0, 1, 1]}\n",
      "replacing sizeMult\n",
      "{} --> {'partname': 5}\n",
      "replacing showParts\n",
      "{} --> {'partname': True}\n",
      "replacing filterVals\n",
      "{} --> {'partname': {}}\n",
      "replacing filterLims\n",
      "{} --> {'partname': {}}\n",
      "replacing colormapVals\n",
      "{} --> {'partname': {}}\n",
      "replacing colormapLims\n",
      "{} --> {'partname': {}}\n"
     ]
    }
   ],
   "source": [
    "## let's load in the options file from customReader.ipynb\n",
    "options.loadFromJSON(\"MyReader/MyDataOptions.json\")"
   ]
  }
 ],
 "metadata": {
  "kernelspec": {
   "display_name": "Python 3",
   "language": "python",
   "name": "python3"
  },
  "language_info": {
   "codemirror_mode": {
    "name": "ipython",
    "version": 3
   },
   "file_extension": ".py",
   "mimetype": "text/x-python",
   "name": "python",
   "nbconvert_exporter": "python",
   "pygments_lexer": "ipython3",
   "version": "3.6.6"
  }
 },
 "nbformat": 4,
 "nbformat_minor": 2
}
