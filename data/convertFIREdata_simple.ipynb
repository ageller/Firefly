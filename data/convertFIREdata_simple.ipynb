{
 "cells": [
  {
   "cell_type": "markdown",
   "metadata": {},
   "source": [
    "# Convert FIRE data\n",
    "\n",
    "This script will convert the FIRE .hdf5 files into a .json data files that can be read into Firefly. \n",
    "\n",
    "FIREreader is the class that will allow you to read in files within a directory, create the dictionary, and write out the json files\n"
   ]
  },
  {
   "cell_type": "code",
   "execution_count": 1,
   "metadata": {},
   "outputs": [
    {
     "name": "stderr",
     "output_type": "stream",
     "text": [
      "/Users/ageller/anaconda/envs/py36/lib/python3.6/site-packages/h5py/__init__.py:36: FutureWarning: Conversion of the second argument of issubdtype from `float` to `np.floating` is deprecated. In future, it will be treated as `np.float64 == np.dtype(float).type`.\n",
      "  from ._conv import register_converters as _register_converters\n"
     ]
    }
   ],
   "source": [
    "%load_ext autoreload\n",
    "%autoreload 2\n",
    "\n",
    "from FIREreader import FIREreader\n",
    "import numpy as np"
   ]
  },
  {
   "cell_type": "markdown",
   "metadata": {},
   "source": [
    "### Set the defaults and create the .json files"
   ]
  },
  {
   "cell_type": "code",
   "execution_count": 5,
   "metadata": {},
   "outputs": [
    {
     "name": "stdout",
     "output_type": "stream",
     "text": [
      "/Users/ageller/Visualizations/Firefly/snapdir_440/snapshot_440.0.hdf5\n",
      "/Users/ageller/Visualizations/Firefly/snapdir_440/snapshot_440.1.hdf5\n",
      "/Users/ageller/Visualizations/Firefly/snapdir_440/snapshot_440.2.hdf5\n",
      "/Users/ageller/Visualizations/Firefly/snapdir_440/snapshot_440.3.hdf5\n",
      "decimating and shuffling ...\n",
      "decimating and shuffling ...\n",
      "decimating and shuffling ...\n",
      "decimating and shuffling ...\n",
      "writing JSON files ...\n",
      "Gas\n",
      "HRDM\n",
      "LRDM\n",
      "Stars\n",
      "snapdir_440/FIREdataOptions.json\n",
      "done\n"
     ]
    }
   ],
   "source": [
    "reader = FIREreader()\n",
    "\n",
    "reader.directory = \"/Users/ageller/Visualizations/Firefly\"\n",
    "reader.snapnum = 440\n",
    "\n",
    "reader.names = {'PartType0':'Gas', \n",
    "                'PartType1':'HRDM', \n",
    "                'PartType2':'LRDM', \n",
    "                'PartType4':'Stars' }\n",
    "\n",
    "#define the defaults; this must be run first if you want to change the defaults below\n",
    "reader.defineDefaults()\n",
    "\n",
    "decimate = 100.\n",
    "for i,p in enumerate(reader.returnParts):\n",
    "    reader.decimate[p] = decimate\n",
    "    \n",
    "    \n",
    "#make the file\n",
    "reader.run()\n",
    "\n",
    "\n",
    "\n"
   ]
  },
  {
   "cell_type": "code",
   "execution_count": null,
   "metadata": {},
   "outputs": [],
   "source": []
  }
 ],
 "metadata": {
  "anaconda-cloud": {},
  "kernelspec": {
   "display_name": "Python 3",
   "language": "python",
   "name": "python3"
  },
  "language_info": {
   "codemirror_mode": {
    "name": "ipython",
    "version": 3
   },
   "file_extension": ".py",
   "mimetype": "text/x-python",
   "name": "python",
   "nbconvert_exporter": "python",
   "pygments_lexer": "ipython3",
   "version": "3.6.4"
  }
 },
 "nbformat": 4,
 "nbformat_minor": 2
}
