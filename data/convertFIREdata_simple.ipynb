{
 "cells": [
  {
   "cell_type": "markdown",
   "metadata": {},
   "source": [
    "# Convert FIRE data\n",
    "\n",
    "This script will convert the FIRE .hdf5 files into a .json data files that can be read into Firefly. \n",
    "\n",
    "FIREreader is the class that will allow you to read in files within a directory, create the dictionary, and write out the json files\n"
   ]
  },
  {
   "cell_type": "code",
   "execution_count": 1,
   "metadata": {
    "collapsed": false
   },
   "outputs": [
    {
     "name": "stdout",
     "output_type": "stream",
     "text": [
      "The autoreload extension is already loaded. To reload it, use:\n",
      "  %reload_ext autoreload\n"
     ]
    }
   ],
   "source": [
    "%load_ext autoreload\n",
    "%autoreload 2\n",
    "\n",
    "from dataParser import FIREreader\n",
    "import numpy as np"
   ]
  },
  {
   "cell_type": "markdown",
   "metadata": {},
   "source": [
    "### Set the defaults and create the .json files"
   ]
  },
  {
   "cell_type": "code",
   "execution_count": 2,
   "metadata": {
    "collapsed": false
   },
   "outputs": [
    {
     "name": "stdout",
     "output_type": "stream",
     "text": [
      "Loading ptype PartType0\n",
      "/Users/agurvich/research/snaps/Control_G4_20/snapdir_050/snapshot_050.0.hdf5\n",
      "Loading ptype PartType4\n",
      "/Users/agurvich/research/snaps/Control_G4_20/snapdir_050/snapshot_050.0.hdf5\n",
      "outputting Particle Group of Gas\n",
      "Contains 1066668 (106666 after dec) particles and 3 arrays\n",
      "\n",
      "['log10Density', 'Velocities', 'log10Temperature'] [1, 0, 1]\n",
      "outputting Particle Group of Stars\n",
      "Contains 514118 (5141 after dec) particles and 1 arrays\n",
      "\n",
      "['Velocities'] [0]\n"
     ]
    }
   ],
   "source": [
    "reader = FIREreader(\n",
    "    snapdir = \"/Users/agurvich/research/snaps/Control_G4_20/snapdir_050/\",\n",
    "    snapnum = 50,\n",
    "    ptypes=['PartType0','PartType4'],\n",
    "    UInames=['Gas','Stars'],\n",
    "    dec_factors=[10,100],\n",
    "    returnKeys=['Density','Velocities','Temperature'],\n",
    "    doMags=[0,0,0],\n",
    "    doLogs=[1,0,1],\n",
    "    filterFlags=[1,0,1], ## it will automatically filter on magVelocities, so you need to put 0 for Velocities\n",
    "    colormapFlags=[1,1,1], ## it will automatically filter on magVelocities, so you need to put 0 for Velocities\n",
    "    JSONdir='isolatedGalaxy_s50')\n",
    "reader.loadData()\n",
    "\n",
    "reader.options['color']['Gas']=[1,0,0,1]\n",
    "reader.options['color']['Stars']=[0,0,1,1]\n",
    "reader.options['sizeMult']['Gas']=0.3\n",
    "reader.options['sizeMult']['Stars']=0.3\n",
    "\n",
    "reader.dumpToJSON()"
   ]
  },
  {
   "cell_type": "markdown",
   "metadata": {},
   "source": [
    "## Make an options file to use as a preset"
   ]
  },
  {
   "cell_type": "code",
   "execution_count": 3,
   "metadata": {
    "collapsed": true
   },
   "outputs": [],
   "source": [
    "#update a few of the options, here to start by only showing the high-velocity outflows in Gas, as vectors\n",
    "\n",
    "reader.options['center'] = np.array([-0.11233689678565528, -2.3536859975959175, 0.020126853973307934])\n",
    "reader.options['camera'] = np.array([12.012246024501222, 16.51869122052115, 1.722756246574182])\n",
    "\n",
    "reader.options['sizeMult']['Gas'] = 0.4\n",
    "reader.options['showVel']['Gas'] = True\n",
    "reader.options['velType']['Gas'] = 'arrow'\n",
    "reader.options['maxVrange'] = 1000\n",
    "\n",
    "#Note: if you want to define the filterVals or filterLims above \n",
    "#(i.e. to define them before executing reader.run() and after definining reader.addFilter), \n",
    "#you would first need to execute reader.defineFilterKeys()  \n",
    "#(reader.defineFilterKeys() is executed within reader.run() )\n",
    "reader.options['filterVals']['Gas']['magVelocities'] = [500, 35000]\n",
    "\n",
    "reader.options['showParts']['Stars'] = False\n",
    "\n",
    "#This created a file names velocityPreset.json within the data directory \n",
    "#  that can now be loaded as a preset from within Firefly"
   ]
  },
  {
   "cell_type": "code",
   "execution_count": 4,
   "metadata": {
    "collapsed": false
   },
   "outputs": [
    {
     "name": "stdout",
     "output_type": "stream",
     "text": [
      "-- window_options --\n",
      "title Firefly\n",
      "loaded True\n",
      "-- UI_options --\n",
      "UI True\n",
      "UIfullscreen True\n",
      "UIsnapshot True\n",
      "UIreset True\n",
      "UIsavePreset True\n",
      "UIloadNewData True\n",
      "UIcameraControls True\n",
      "UIdecimation True\n",
      "-- particle_UI_options --\n",
      "UIparticle {'Gas': True, 'Stars': True}\n",
      "UIdropdown {'Gas': True, 'Stars': True}\n",
      "UIcolorPicker {'Gas': True, 'Stars': True}\n",
      "-- startup_options --\n",
      "center [-0.1123369  -2.353686    0.02012685]\n",
      "camera [12.01224602 16.51869122  1.72275625]\n",
      "cameraRotation None\n",
      "maxVrange 1000\n",
      "startFly False\n",
      "friction None\n",
      "stereo False\n",
      "stereoSep None\n",
      "decimate None\n",
      "-- particle_startup_options --\n",
      "plotNmax {'Gas': None, 'Stars': None}\n",
      "showVel {'Gas': True, 'Stars': False}\n",
      "velType {'Gas': 'arrow', 'Stars': None}\n",
      "color {'Gas': [1, 0, 0, 1], 'Stars': [0, 0, 1, 1]}\n",
      "sizeMult {'Gas': 0.4, 'Stars': 0.3}\n",
      "showParts {'Gas': True, 'Stars': False}\n",
      "-- particle_filter_options --\n",
      "filterVals {'Gas': {'log10Density': None, 'log10Temperature': None, 'magVelocities': [500, 35000]}, 'Stars': {}}\n",
      "filterLims {'Gas': {'log10Density': None, 'log10Temperature': None}, 'Stars': {}}\n",
      "-- particle_colormap_options --\n",
      "colormapVals {'Gas': {'log10Density': None, 'Velocities': None, 'log10Temperature': None}, 'Stars': {}}\n",
      "colormapLims {'Gas': {'log10Density': None, 'Velocities': None, 'log10Temperature': None}, 'Stars': {}}\n"
     ]
    }
   ],
   "source": [
    "reader.options.listKeys()"
   ]
  },
  {
   "cell_type": "code",
   "execution_count": 5,
   "metadata": {
    "collapsed": false
   },
   "outputs": [
    {
     "name": "stderr",
     "output_type": "stream",
     "text": [
      "/Users/agurvich/research/repos/Firefly/data/dataParser.py:238: UserWarning: You will need to add this options filename to filenames.json if this was not called by a Reader instance.\n",
      "  \" filenames.json if this was not called by a Reader instance.\")\n"
     ]
    }
   ],
   "source": [
    "reader.options.outputToJSON(reader.JSONdir, \"velocityPreset.json\")"
   ]
  }
 ],
 "metadata": {
  "anaconda-cloud": {},
  "kernelspec": {
   "display_name": "Python 3",
   "language": "python",
   "name": "python3"
  },
  "language_info": {
   "codemirror_mode": {
    "name": "ipython",
    "version": 3
   },
   "file_extension": ".py",
   "mimetype": "text/x-python",
   "name": "python",
   "nbconvert_exporter": "python",
   "pygments_lexer": "ipython3",
   "version": "3.6.6"
  }
 },
 "nbformat": 4,
 "nbformat_minor": 2
}
