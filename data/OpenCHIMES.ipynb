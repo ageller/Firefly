{
 "cells": [
  {
   "cell_type": "code",
   "execution_count": 1,
   "metadata": {},
   "outputs": [],
   "source": [
    "%load_ext autoreload\n",
    "%autoreload 2\n",
    "\n",
    "from FIREreader import FIREreader\n",
    "import numpy as np\n",
    "import os\n",
    "import h5py"
   ]
  },
  {
   "cell_type": "code",
   "execution_count": 2,
   "metadata": {},
   "outputs": [],
   "source": [
    "## initialize reader object and choose simulation to run\n",
    "reader = FIREreader()\n",
    "reader.directory = \"/Users/agurvich/research/snaps/CHIMES/output\"\n",
    "reader.snapnum = 500\n",
    "## could read this from snapshot times\n",
    "current_redshift=0"
   ]
  },
  {
   "cell_type": "code",
   "execution_count": 3,
   "metadata": {},
   "outputs": [],
   "source": [
    "## decide which part types to save to JSON\n",
    "reader.returnParts = ['PartType0', 'PartType4']\n",
    "\n",
    "## choose the names the particle types will get in the UI\n",
    "reader.names = {'PartType0':'Gas', \n",
    "                  'PartType1':'HRDM', \n",
    "                  'PartType2':'LRDM', \n",
    "                  'PartType4':'Stars' }"
   ]
  },
  {
   "cell_type": "code",
   "execution_count": 4,
   "metadata": {},
   "outputs": [],
   "source": [
    "#define the defaults; this must be run first if you want to change the defaults below\n",
    "reader.defineDefaults()\n",
    "\n",
    "## by what factor should you sub-sample the data (e.g. array[::decimate])\n",
    "decimate = [10, 10.]"
   ]
  },
  {
   "cell_type": "code",
   "execution_count": 5,
   "metadata": {},
   "outputs": [
    {
     "name": "stdout",
     "output_type": "stream",
     "text": [
      "{'PartType4': ['Coordinates', 'Density', 'Velocities', 'HIIAbundance', 'Temperature', 'AgeGyr'], 'PartType0': ['Coordinates', 'Density', 'Velocities', 'HIIAbundance', 'Temperature', 'AgeGyr']}\n",
      "/Users/agurvich/research/snaps/CHIMES/output/snapshot_500.hdf5\n",
      "PartType0 has no AgeGyr\n",
      "/Users/agurvich/research/snaps/CHIMES/output/snapshot_500.hdf5\n",
      "PartType4 has no Density\n",
      "PartType4 has no HIIAbundance\n",
      "PartType4 has no Temperature\n"
     ]
    }
   ],
   "source": [
    "## load in the data from hdf5 files and put it into reader.partsDict\n",
    "for i,p in enumerate(reader.returnParts):\n",
    "    reader.decimate[p] = decimate[i]\n",
    "    reader.returnKeys[p] = ['Coordinates', 'Density','Velocities','HIIAbundance','Temperature','AgeGyr']\n",
    "    #Note: you should only try to filter on scalar values (like density).  \n",
    "    #The magnitude of the Velocities are calculated in Firefly, and you will automatically be allowed to filter on it\n",
    "    reader.addFilter[p] = [False, True, False,True,True,True]\n",
    "    ## tell it to do the log of density when filtering\n",
    "    reader.dolog[p] = [False, True, False,False,True,False]\n",
    "    \n",
    "    \n",
    "    #NOTE: all dictionaries in the \"options\" reference the swapped names (i.e., reader.names) you define above.  \n",
    "    #If you don't define reader.names, then you can use the default keys from the hdf5 files \n",
    "    #(but then you will see those hdf5 names in the Firefly GUI)\n",
    "    pp = reader.names[p]\n",
    "    ## set the initial size of the particles when the interface loads\n",
    "    reader.options['sizeMult'][pp] = 0.3\n",
    "    \n",
    "## set the default colors when the interface loads\n",
    "reader.options['color'] = {'Gas':  [1., 0., 0., 1.],  \n",
    "                           'HRDM': [1., 1., 0., 0.1],  \n",
    "                           'LRDM': [1., 1., 0., 0.1],  \n",
    "                           'Stars':[0., 0., 1., 0.1]} \n",
    "\n",
    "## set the camera center to be at the origin (defaults to np.mean(Coordinates) otherwise)\n",
    "##     later on we subtract out halo_center from coordinates but could instead make this halo_center\n",
    "reader.options['center'] = np.array([0., 0., 0.])\n",
    "\n",
    "## initialize filter flags and options\n",
    "reader.defineFilterKeys()\n",
    "## load in return keys from snapshot\n",
    "filenames_opened = reader.populate_dict()"
   ]
  },
  {
   "cell_type": "code",
   "execution_count": 6,
   "metadata": {},
   "outputs": [],
   "source": [
    "## calculate the radius from the halo center\n",
    "gas_radii = np.sum(reader.partsDict['PartType0']['Coordinates']**2,axis=1)**0.5\n",
    "star_radii = np.sum(reader.partsDict['PartType4']['Coordinates']**2,axis=1)**0.5\n",
    "\n",
    "## add new radius array to the dictionary using addtodict method\n",
    "reader.addtodict(reader.partsDict,None,'PartType0','Radius',0,0,vals=gas_radii, filterFlag = True)\n",
    "reader.addtodict(reader.partsDict,None,'PartType4','Radius',0,0,vals=star_radii, filterFlag = True)"
   ]
  },
  {
   "cell_type": "code",
   "execution_count": 7,
   "metadata": {},
   "outputs": [],
   "source": [
    "# Code mass -> g , (code length)^-3 -> cm^-3 , g -> nHydrogen\n",
    "DENSITYFACT=2e43*(3.086e21)**-3/(1.67e-24)\n",
    "reader.partsDict['PartType0']['log10Density'] = reader.partsDict['PartType0']['log10Density']+np.log10(DENSITYFACT)"
   ]
  },
  {
   "cell_type": "code",
   "execution_count": 8,
   "metadata": {},
   "outputs": [
    {
     "name": "stdout",
     "output_type": "stream",
     "text": [
      "decimating and shuffling ...\n",
      "decimating and shuffling ...\n",
      "('dataDir', None)\n",
      "writing JSON files ...\n",
      "Gas\n",
      "Stars\n",
      "CHIMES_500/FIREdataOptions.json\n"
     ]
    }
   ],
   "source": [
    "## finish up, let's shuffle + decimate, add the GUI friendly names, and create our final JSON!\n",
    "reader.shuffle_dict()\n",
    "reader.swap_dict_names()\n",
    "reader.createJSON()"
   ]
  },
  {
   "cell_type": "code",
   "execution_count": null,
   "metadata": {},
   "outputs": [],
   "source": []
  }
 ],
 "metadata": {
  "kernelspec": {
   "display_name": "Python [default]",
   "language": "python",
   "name": "python2"
  },
  "language_info": {
   "codemirror_mode": {
    "name": "ipython",
    "version": 2
   },
   "file_extension": ".py",
   "mimetype": "text/x-python",
   "name": "python",
   "nbconvert_exporter": "python",
   "pygments_lexer": "ipython2",
   "version": "2.7.12"
  }
 },
 "nbformat": 4,
 "nbformat_minor": 2
}
