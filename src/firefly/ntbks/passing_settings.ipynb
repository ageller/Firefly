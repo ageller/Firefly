{
 "cells": [
  {
   "cell_type": "markdown",
   "id": "bb752e39",
   "metadata": {},
   "source": [
    "# Passing settings in Firefly between JS and Python\n",
    "\n",
    "Currently we only support passing settings back and forth, but in the future this will include getting data in Python from selections made within Firefly."
   ]
  },
  {
   "cell_type": "code",
   "execution_count": 1,
   "id": "50bdd5cb",
   "metadata": {},
   "outputs": [],
   "source": [
    "from IPython.display import IFrame\n",
    "from firefly.server import spawnFireflyServer\n",
    "import requests"
   ]
  },
  {
   "cell_type": "code",
   "execution_count": 2,
   "id": "6f17443e",
   "metadata": {},
   "outputs": [
    {
     "name": "stdout",
     "output_type": "stream",
     "text": [
      "Waiting up to 10 seconds for background Firefly server to start...done! Your server is available at - http://localhost:5500\n"
     ]
    }
   ],
   "source": [
    "process = spawnFireflyServer(5500)"
   ]
  },
  {
   "cell_type": "code",
   "execution_count": 3,
   "id": "c8c02224",
   "metadata": {},
   "outputs": [
    {
     "data": {
      "text/html": [
       "\n",
       "        <iframe\n",
       "            width=\"800\"\n",
       "            height=\"500\"\n",
       "            src=\"http://localhost:5500/combined\"\n",
       "            frameborder=\"0\"\n",
       "            allowfullscreen\n",
       "            \n",
       "        ></iframe>\n",
       "        "
      ],
      "text/plain": [
       "<IPython.lib.display.IFrame at 0x13d3384a410>"
      ]
     },
     "execution_count": 3,
     "metadata": {},
     "output_type": "execute_result"
    }
   ],
   "source": [
    "IFrame(\"http://localhost:5500/combined\", width = 800, height = 500)\n",
    "\n",
    "# click on Save Settings in main/general/data"
   ]
  },
  {
   "cell_type": "code",
   "execution_count": 4,
   "id": "05aab30f",
   "metadata": {},
   "outputs": [
    {
     "name": "stdout",
     "output_type": "stream",
     "text": [
      "{'result': 'Success'}\n"
     ]
    }
   ],
   "source": [
    "# sending get request and saving the response as response object\n",
    "r = requests.get(url = 'http://localhost:5500/settings_output')#, params={'room':'myroom'})\n",
    "print(r.json())"
   ]
  },
  {
   "cell_type": "code",
   "execution_count": null,
   "id": "85533ad1",
   "metadata": {},
   "outputs": [],
   "source": [
    "r = requests.get(url = 'http://localhost:5500/settings_output')"
   ]
  },
  {
   "cell_type": "code",
   "execution_count": null,
   "id": "bbab09d4",
   "metadata": {},
   "outputs": [],
   "source": []
  }
 ],
 "metadata": {
  "kernelspec": {
   "display_name": "Python 3 (ipykernel)",
   "language": "python",
   "name": "python3"
  },
  "language_info": {
   "codemirror_mode": {
    "name": "ipython",
    "version": 3
   },
   "file_extension": ".py",
   "mimetype": "text/x-python",
   "name": "python",
   "nbconvert_exporter": "python",
   "pygments_lexer": "ipython3",
   "version": "3.10.6"
  }
 },
 "nbformat": 4,
 "nbformat_minor": 5
}
