{
 "cells": [
  {
   "cell_type": "markdown",
   "id": "bb752e39",
   "metadata": {},
   "source": [
    "# Passing settings in Firefly between JS and Python\n",
    "\n",
    "Currently we only support passing settings back and forth, but in the future this will include getting data in Python from selections made within Firefly."
   ]
  },
  {
   "cell_type": "code",
   "execution_count": null,
   "id": "50bdd5cb",
   "metadata": {},
   "outputs": [],
   "source": [
    "from IPython.display import IFrame\n",
    "\n",
    "import numpy as np\n",
    "\n",
    "from firefly.data_reader import ArrayReader\n",
    "from firefly.server import spawnFireflyServer,quitAllFireflyServers, getFireflySettings"
   ]
  },
  {
   "cell_type": "code",
   "execution_count": null,
   "id": "6f17443e",
   "metadata": {},
   "outputs": [],
   "source": [
    "process = spawnFireflyServer(5500)"
   ]
  },
  {
   "cell_type": "code",
   "execution_count": null,
   "id": "c8c02224",
   "metadata": {},
   "outputs": [],
   "source": [
    "IFrame(\"http://localhost:5500/combined\", width = 800, height = 500)\n",
    "\n",
    "# click on the Save Settings in main/general/data"
   ]
  },
  {
   "cell_type": "code",
   "execution_count": null,
   "id": "da47df5e",
   "metadata": {},
   "outputs": [],
   "source": [
    "settings = getFireflySettings()\n",
    "settings"
   ]
  },
  {
   "cell_type": "code",
   "execution_count": null,
   "id": "cc56848d",
   "metadata": {},
   "outputs": [],
   "source": []
  }
 ],
 "metadata": {
  "kernelspec": {
   "display_name": "Python 3 (ipykernel)",
   "language": "python",
   "name": "python3"
  },
  "language_info": {
   "codemirror_mode": {
    "name": "ipython",
    "version": 3
   },
   "file_extension": ".py",
   "mimetype": "text/x-python",
   "name": "python",
   "nbconvert_exporter": "python",
   "pygments_lexer": "ipython3",
   "version": "3.10.6"
  }
 },
 "nbformat": 4,
 "nbformat_minor": 5
}
