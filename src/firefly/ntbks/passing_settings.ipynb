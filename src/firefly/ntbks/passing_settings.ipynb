{
 "cells": [
  {
   "cell_type": "markdown",
   "id": "bb752e39",
   "metadata": {},
   "source": [
    "# Passing settings in Firefly between JS and Python\n",
    "\n",
    "Currently we only support passing settings back and forth, but in the future this will include getting data in Python from selections made within Firefly."
   ]
  },
  {
   "cell_type": "code",
   "execution_count": null,
   "id": "50bdd5cb",
   "metadata": {},
   "outputs": [],
   "source": [
    "from IPython.display import IFrame\n",
    "from firefly.server import spawnFireflyServer\n",
    "import requests"
   ]
  },
  {
   "cell_type": "code",
   "execution_count": null,
   "id": "6f17443e",
   "metadata": {},
   "outputs": [],
   "source": [
    "process = spawnFireflyServer(5500, method = 'flask', python_data_passing = True)"
   ]
  },
  {
   "cell_type": "code",
   "execution_count": null,
   "id": "c8c02224",
   "metadata": {},
   "outputs": [],
   "source": [
    "IFrame(\"http://localhost:5500/combined\", width = 800, height = 500)"
   ]
  },
  {
   "cell_type": "code",
   "execution_count": null,
   "id": "8f3592d6",
   "metadata": {},
   "outputs": [],
   "source": [
    "# send a get request to receive the current settings from Firefly\n",
    "r = requests.get(url = 'http://localhost:5500/settings_output')#, params={'room':'myroom'})\n",
    "settings = r.json()\n",
    "print(settings)"
   ]
  },
  {
   "cell_type": "code",
   "execution_count": null,
   "id": "53d8fac6",
   "metadata": {},
   "outputs": [],
   "source": [
    "settings['useStereo']"
   ]
  },
  {
   "cell_type": "code",
   "execution_count": null,
   "id": "ac656d62",
   "metadata": {},
   "outputs": [],
   "source": []
  }
 ],
 "metadata": {
  "kernelspec": {
   "display_name": "Python 3 (ipykernel)",
   "language": "python",
   "name": "python3"
  },
  "language_info": {
   "codemirror_mode": {
    "name": "ipython",
    "version": 3
   },
   "file_extension": ".py",
   "mimetype": "text/x-python",
   "name": "python",
   "nbconvert_exporter": "python",
   "pygments_lexer": "ipython3",
   "version": "3.10.6"
  }
 },
 "nbformat": 4,
 "nbformat_minor": 5
}
