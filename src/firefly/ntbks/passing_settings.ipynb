{
 "cells": [
  {
   "cell_type": "markdown",
   "id": "bb752e39",
   "metadata": {},
   "source": [
    "# Passing settings in Firefly between JS and Python\n",
    "\n",
    "Currently we only support passing settings back and forth, but in the future this will include getting data in Python from selections made within Firefly."
   ]
  },
  {
   "cell_type": "code",
   "execution_count": null,
   "id": "50bdd5cb",
   "metadata": {},
   "outputs": [],
   "source": [
    "from IPython.display import IFrame\n",
    "from firefly.server import spawnFireflyServer\n",
    "import requests\n",
    "import json"
   ]
  },
  {
   "cell_type": "code",
   "execution_count": null,
   "id": "6f17443e",
   "metadata": {},
   "outputs": [],
   "source": [
    "# define the port and start the firefly server\n",
    "port = 5500\n",
    "process = spawnFireflyServer(port, method = 'flask')"
   ]
  },
  {
   "cell_type": "code",
   "execution_count": null,
   "id": "c8c02224",
   "metadata": {},
   "outputs": [],
   "source": [
    "IFrame(f'http://localhost:{port:d}/combined', width = 800, height = 500)"
   ]
  },
  {
   "cell_type": "code",
   "execution_count": null,
   "id": "8f3592d6",
   "metadata": {},
   "outputs": [],
   "source": [
    "# send a get request to receive the current settings from Firefly\n",
    "r = requests.get(url = f'http://localhost:{port:d}/get_settings')#, params={'room':'myroom'})\n",
    "settings = r.json()"
   ]
  },
  {
   "cell_type": "code",
   "execution_count": null,
   "id": "14d69657",
   "metadata": {},
   "outputs": [],
   "source": [
    "print(settings['useStereo'])"
   ]
  },
  {
   "cell_type": "code",
   "execution_count": null,
   "id": "ac656d62",
   "metadata": {},
   "outputs": [],
   "source": [
    "# change a setting and pass it back to firefly       \n",
    "settings['useStereo'] = not settings['useStereo']\n",
    "requests.post(f'http://localhost:{port:d}/post_settings', json=json.dumps({'settings':settings}))"
   ]
  },
  {
   "cell_type": "code",
   "execution_count": null,
   "id": "cbe82312",
   "metadata": {},
   "outputs": [],
   "source": []
  },
  {
   "cell_type": "code",
   "execution_count": null,
   "id": "9826d92c",
   "metadata": {},
   "outputs": [],
   "source": []
  }
 ],
 "metadata": {
  "kernelspec": {
   "display_name": "Python 3 (ipykernel)",
   "language": "python",
   "name": "python3"
  },
  "language_info": {
   "codemirror_mode": {
    "name": "ipython",
    "version": 3
   },
   "file_extension": ".py",
   "mimetype": "text/x-python",
   "name": "python",
   "nbconvert_exporter": "python",
   "pygments_lexer": "ipython3",
   "version": "3.10.6"
  }
 },
 "nbformat": 4,
 "nbformat_minor": 5
}
