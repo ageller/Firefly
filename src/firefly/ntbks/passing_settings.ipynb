{
 "cells": [
  {
   "cell_type": "markdown",
   "id": "bb752e39",
   "metadata": {},
   "source": [
    "# Passing settings in Firefly between JS and Python\n",
    "\n",
    "Currently we only support passing settings back and forth, but in the future this will include getting data in Python from selections made within Firefly."
   ]
  },
  {
   "cell_type": "code",
   "execution_count": 1,
   "id": "50bdd5cb",
   "metadata": {},
   "outputs": [],
   "source": [
    "from IPython.display import IFrame\n",
    "from firefly.server import spawnFireflyServer\n",
    "import requests"
   ]
  },
  {
   "cell_type": "code",
   "execution_count": 2,
   "id": "6f17443e",
   "metadata": {},
   "outputs": [
    {
     "name": "stdout",
     "output_type": "stream",
     "text": [
      "Waiting up to 10 seconds for background Firefly server to start...done! Your server is available at - http://localhost:5500\n"
     ]
    }
   ],
   "source": [
    "process = spawnFireflyServer(5500)"
   ]
  },
  {
   "cell_type": "code",
   "execution_count": 3,
   "id": "c8c02224",
   "metadata": {},
   "outputs": [
    {
     "data": {
      "text/html": [
       "\n",
       "        <iframe\n",
       "            width=\"800\"\n",
       "            height=\"500\"\n",
       "            src=\"http://localhost:5500/combined\"\n",
       "            frameborder=\"0\"\n",
       "            allowfullscreen\n",
       "            \n",
       "        ></iframe>\n",
       "        "
      ],
      "text/plain": [
       "<IPython.lib.display.IFrame at 0x1f64f7b2230>"
      ]
     },
     "execution_count": 3,
     "metadata": {},
     "output_type": "execute_result"
    }
   ],
   "source": [
    "IFrame(\"http://localhost:5500/combined\", width = 800, height = 500)"
   ]
  },
  {
   "cell_type": "code",
   "execution_count": 4,
   "id": "8f3592d6",
   "metadata": {},
   "outputs": [
    {
     "name": "stdout",
     "output_type": "stream",
     "text": [
      "{'sleepTimeout': 1.5, 'showSplashAtStartup': False, 'annotation': None, 'controlsExplainerDelay_sec': 5, 'title': 'Firefly', 'friction': [0.1], 'flyffac': 1, 'useStereo': False, 'stereoSep': 0.06, 'stereoSepMax': 1, 'decimate': '1.0', 'zmin': 0.01, 'zmax': 50000000000, 'minPointScale': 0.01, 'maxPointScale': 10, 'maxVrange': 2000, 'showFPS': True, 'showMemoryUsage': True, 'memoryLimit': 2000000000, 'streamQuality': 1, 'GUIExcludeList': [], 'collapseGUIAtStart': True, 'CDckey': 'ColumnDensity', 'CDlognorm': False, 'CDmin': 1, 'CDmax': 10, 'scaleCD': 0.01, 'VideoCapture_duration': 5, 'VideoCapture_FPS': 30, 'VideoCapture_filename': 'firefly_capture', 'VideoCapture_format': 0, 'VideoCapture_formats': ['.gif', '.png', '.jpg'], 'showParts': {'Gas': True, 'Stars': True, 'HRDM': True, 'LRDM': True, '__column__density__foo__abg': True}, 'partsSizeMultipliers': {'Gas': 0.25, 'Stars': 0.03, 'HRDM': 1, 'LRDM': 1}, 'partsColors': {'Gas': [1, 0, 0, 1], 'Stars': [1, 1, 1, 0.025], 'HRDM': [0.5, 0, 0.5, 1], 'LRDM': [0.5, 0, 0.5, 1]}, 'plotNmax': {'Gas': 622572, 'Stars': 326472, 'HRDM': 186460, 'LRDM': 60845}, 'showVel': {'Gas': True, 'Stars': False, 'HRDM': False, 'LRDM': False}, 'velType': {'Gas': 'arrow', 'Stars': 'line', 'HRDM': 'line', 'LRDM': 'line'}, 'velVectorWidth': {'Gas': 1, 'Stars': 1, 'HRDM': 1, 'LRDM': 1}, 'velGradient': {'Gas': False, 'Stars': False, 'HRDM': False, 'LRDM': False}, 'animateVel': {'Gas': False, 'Stars': False, 'HRDM': False, 'LRDM': False}, 'animateVelDt': 0, 'animateVelTmax': 1, 'fkeys': {'Gas': ['log10Density', 'log10Temperature', 'GCRadius', 'Velocity'], 'Stars': ['AgeGyr', 'GCRadius', 'Velocity'], 'HRDM': ['GCRadius', 'Velocity'], 'LRDM': ['GCRadius', 'Velocity']}, 'filterLims': {'Gas': {'None': [0, 1], 'log10Density': [-14.690526557922363, 0.9927436838150024], 'log10Temperature': [0.6868659725189209, 7.151208950042725], 'GCRadius': [0.055065235286951064, 7986.9765859375], 'Velocity': [0.450803594827652, 938.91750390625]}, 'Stars': {'None': [0, 1], 'AgeGyr': [-0.0007857900161761791, 13.564710212707519], 'GCRadius': [0.004524271633476019, 9782.1699453125], 'Velocity': [3.7620157470703126, 1039.5531240234375]}, 'HRDM': {'None': [0, 1], 'GCRadius': [0, 5000], 'Velocity': [1.1935697069168092, 1053.2313466796875]}, 'LRDM': {'None': [0, 1], 'GCRadius': [1223.8554453125, 76444.235375], 'Velocity': [2.661444353103638, 1838.3319326171875]}}, 'filterVals': {'Gas': {'None': [0, 1], 'log10Density': [-14.690526557922363, 0.9927436838150024], 'log10Temperature': [0.6868659725189209, 7.151208950042725], 'GCRadius': [0.055065235286951064, 7986.9765859375], 'Velocity': [0.450803594827652, 938.91750390625]}, 'Stars': {'None': [0, 1], 'AgeGyr': [-0.0007857900161761791, 13.564710212707519], 'GCRadius': [0.004524271633476019, 9782.1699453125], 'Velocity': [3.7620157470703126, 1039.5531240234375]}, 'HRDM': {'None': [0, 1], 'GCRadius': [300, 5000], 'Velocity': [1.1935697069168092, 1053.2313466796875]}, 'LRDM': {'None': [0, 1], 'GCRadius': [1223.8554453125, 76444.235375], 'Velocity': [2.661444353103638, 1838.3319326171875]}}, 'invertFilter': {'Gas': {'None': False, 'log10Density': False, 'log10Temperature': False, 'GCRadius': False, 'Velocity': False}, 'Stars': {'None': False, 'AgeGyr': False, 'GCRadius': False, 'Velocity': False}, 'HRDM': {'None': False, 'GCRadius': False, 'Velocity': False}, 'LRDM': {'None': False, 'GCRadius': False, 'Velocity': False}}, 'showColormap': {'Gas': True, 'Stars': False, 'HRDM': False, 'LRDM': False, '__column__density__foo__abg': False}, 'colormap': {'Gas': 0.015625, 'Stars': 0.015625, 'HRDM': 0.015625, 'LRDM': 0.015625, '__column__density__foo__abg': 0.015625}, 'ckeys': {'Gas': ['log10Density', 'log10Temperature', 'GCRadius', 'Velocity'], 'Stars': ['AgeGyr', 'GCRadius', 'Velocity'], 'HRDM': ['GCRadius', 'Velocity'], 'LRDM': ['GCRadius', 'Velocity'], '__column__density__foo__abg': ['ColumnDensity']}, 'colormapLims': {'Gas': {'None': [0, 1], 'log10Density': [-14.690526557922363, 0.9927436838150024], 'log10Temperature': [0.6868659725189209, 7.151208950042725], 'GCRadius': [0.055065235286951064, 7986.9765859375], 'Velocity': [50, 500]}, 'Stars': {'None': [0, 1], 'AgeGyr': [-0.0007857900161761791, 13.564710212707519], 'GCRadius': [0.004524271633476019, 9782.1699453125], 'Velocity': [3.7620157470703126, 1039.5531240234375]}, 'HRDM': {'None': [0, 1], 'GCRadius': [0.176809476852417, 4988.80178125], 'Velocity': [1.1935697069168092, 1053.2313466796875]}, 'LRDM': {'None': [0, 1], 'GCRadius': [1223.8554453125, 76444.235375], 'Velocity': [2.661444353103638, 1838.3319326171875]}, '__column__density__foo__abg': {'ColumnDensity': [1, 10]}}, 'colormapVals': {'Gas': {'None': [0, 1], 'log10Density': [-14.690526557922363, 0.9927436838150024], 'log10Temperature': [0.6868659725189209, 7.151208950042725], 'GCRadius': [0.055065235286951064, 7986.9765859375], 'Velocity': [50, 500]}, 'Stars': {'None': [0, 1], 'AgeGyr': [-0.0007857900161761791, 13.564710212707519], 'GCRadius': [0.004524271633476019, 9782.1699453125], 'Velocity': [3.7620157470703126, 1039.5531240234375]}, 'HRDM': {'None': [0, 1], 'GCRadius': [0.176809476852417, 4988.80178125], 'Velocity': [1.1935697069168092, 1053.2313466796875]}, 'LRDM': {'None': [0, 1], 'GCRadius': [1223.8554453125, 76444.235375], 'Velocity': [2.661444353103638, 1838.3319326171875]}, '__column__density__foo__abg': {'ColumnDensity': [1, 10]}}, 'colormapReversed': {'Gas': {'log10Density': False, 'log10Temperature': False, 'GCRadius': False, 'Velocity': False}, 'Stars': {'AgeGyr': False, 'GCRadius': False, 'Velocity': False}, 'HRDM': {'GCRadius': False, 'Velocity': False}, 'LRDM': {'GCRadius': False, 'Velocity': False}, '__column__density__foo__abg': False}, 'colormapVariable': {'Gas': 3, 'Stars': 0, 'HRDM': 0, 'LRDM': 0, '__column__density__foo__abg': 0}, 'rkeys': {'Gas': ['None', 'log10Temperature'], 'Stars': ['None', 'AgeGyr'], 'HRDM': ['None'], 'LRDM': ['None']}, 'radiusVariable': {'Gas': 1, 'Stars': 0, 'HRDM': 0, 'LRDM': 0}, 'blendingMode': {'Gas': 'normal', 'Stars': 'additive', 'HRDM': 'additive', 'LRDM': 'additive'}, 'depthTest': {'Gas': True, 'Stars': False, 'HRDM': False, 'LRDM': False}, 'center': [0, 0, 0], 'camera': [217.2672444394, -101.2759665315, 70.9797372272], 'cameraRotation': [0.9594969679731493, 1.053317169655287, -1.5707963267948961], 'cameraUp': [1, 0, 0], 'quaternion': [0.7063289092613808, -0.03315828616843891, 0.5974454398553869, -0.37823133978559104], 'startFly': False, 'startVR': False, 'startColumnDensity': False, 'startTween': False, 'loaded': True}\n"
     ]
    }
   ],
   "source": [
    "# send a get request to receive the current settings from Firefly\n",
    "r = requests.get(url = 'http://localhost:5500/settings_output')#, params={'room':'myroom'})\n",
    "settings = r.json()\n",
    "print(settings)"
   ]
  },
  {
   "cell_type": "code",
   "execution_count": 5,
   "id": "53d8fac6",
   "metadata": {},
   "outputs": [
    {
     "data": {
      "text/plain": [
       "False"
      ]
     },
     "execution_count": 5,
     "metadata": {},
     "output_type": "execute_result"
    }
   ],
   "source": [
    "settings['useStereo']"
   ]
  },
  {
   "cell_type": "code",
   "execution_count": null,
   "id": "ac656d62",
   "metadata": {},
   "outputs": [],
   "source": []
  }
 ],
 "metadata": {
  "kernelspec": {
   "display_name": "Python 3 (ipykernel)",
   "language": "python",
   "name": "python3"
  },
  "language_info": {
   "codemirror_mode": {
    "name": "ipython",
    "version": 3
   },
   "file_extension": ".py",
   "mimetype": "text/x-python",
   "name": "python",
   "nbconvert_exporter": "python",
   "pygments_lexer": "ipython3",
   "version": "3.10.6"
  }
 },
 "nbformat": 4,
 "nbformat_minor": 5
}
