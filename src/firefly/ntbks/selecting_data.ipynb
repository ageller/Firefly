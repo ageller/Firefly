{
 "cells": [
  {
   "cell_type": "markdown",
   "id": "bb752e39",
   "metadata": {},
   "source": [
    "# Selecting data points in Firefly and receiving data in Python\n",
    "\n",
    "This is a test notebook working on accessing data in Python from selections made within Firefly."
   ]
  },
  {
   "cell_type": "code",
   "execution_count": null,
   "id": "50bdd5cb",
   "metadata": {},
   "outputs": [],
   "source": [
    "from IPython.display import IFrame\n",
    "from firefly.server import spawnFireflyServer, quitAllFireflyServers\n",
    "import requests\n",
    "import json\n",
    "import os\n",
    "\n",
    "import matplotlib.pyplot as plt\n",
    "%matplotlib inline"
   ]
  },
  {
   "cell_type": "code",
   "execution_count": null,
   "id": "6f17443e",
   "metadata": {},
   "outputs": [],
   "source": [
    "# define the port and start the firefly server\n",
    "port = 5500\n",
    "directory = os.path.join(os.getcwd(),'..')"
   ]
  },
  {
   "cell_type": "code",
   "execution_count": null,
   "id": "4985582d",
   "metadata": {},
   "outputs": [],
   "source": [
    "# start the server\n",
    "process = spawnFireflyServer(port, method = 'flask', directory = directory)"
   ]
  },
  {
   "cell_type": "code",
   "execution_count": null,
   "id": "c8c02224",
   "metadata": {},
   "outputs": [],
   "source": [
    "# launch the iframe \n",
    "IFrame(f'http://localhost:{port:d}/combined', width = 800, height = 500)"
   ]
  },
  {
   "cell_type": "markdown",
   "id": "c172460f",
   "metadata": {},
   "source": [
    "## Get the selected data in Python"
   ]
  },
  {
   "cell_type": "code",
   "execution_count": null,
   "id": "8f3592d6",
   "metadata": {},
   "outputs": [],
   "source": [
    "# send a get request to receive the current settings from Firefly\n",
    "# for larger amounts of data, you will need to increase the waitTime (in seconds) via params (see below; the default is 10s)\n",
    "r = requests.get(url = f'http://localhost:{port:d}/get_selected_data', params = {'waitTime':60})\n",
    "if r.status_code == 200:\n",
    "    # success\n",
    "    selection = r.json()\n",
    "    print(selection['Gas']['Coordinates_flat'][:100])\n",
    "else:\n",
    "    print('Error: {}'.format(r.status_code), r.content)\n"
   ]
  },
  {
   "cell_type": "code",
   "execution_count": null,
   "id": "5c9d996d",
   "metadata": {},
   "outputs": [],
   "source": [
    "# plot x, y for the selected points\n",
    "partsKeys = list(selection.keys())\n",
    "part0 = selection[partsKeys[0]]\n",
    "x = part0['Coordinates_flat'][0::3]\n",
    "y = part0['Coordinates_flat'][1::3]\n",
    "f, ax = plt.subplots()\n",
    "ax.scatter(x[:1000],y[:1000])"
   ]
  },
  {
   "cell_type": "markdown",
   "id": "b2637fdf",
   "metadata": {},
   "source": [
    "## You can also get and set the settings with similar commands"
   ]
  },
  {
   "cell_type": "code",
   "execution_count": null,
   "id": "bef07ea9",
   "metadata": {},
   "outputs": [],
   "source": [
    "# send a get request to receive the current settings from Firefly\n",
    "r = requests.get(url = f'http://localhost:{port:d}/get_settings')#, params = {'room':'myroom'})\n",
    "settings = r.json()\n",
    "print(settings)"
   ]
  },
  {
   "cell_type": "code",
   "execution_count": null,
   "id": "6cbf1cd9",
   "metadata": {},
   "outputs": [],
   "source": [
    "print(settings['useStereo'])"
   ]
  },
  {
   "cell_type": "code",
   "execution_count": null,
   "id": "ac656d62",
   "metadata": {},
   "outputs": [],
   "source": [
    "# change a setting and pass it back to firefly       \n",
    "settings['useStereo'] = not settings['useStereo']\n",
    "requests.post(f'http://localhost:{port:d}/post_settings', json=json.dumps({'settings':settings}))"
   ]
  },
  {
   "cell_type": "markdown",
   "id": "ddf98dc4",
   "metadata": {},
   "source": [
    "## Quite the Firefly server"
   ]
  },
  {
   "cell_type": "code",
   "execution_count": null,
   "id": "9826d92c",
   "metadata": {},
   "outputs": [],
   "source": [
    "return_code = quitAllFireflyServers()"
   ]
  },
  {
   "cell_type": "code",
   "execution_count": null,
   "id": "53db44ea",
   "metadata": {},
   "outputs": [],
   "source": []
  }
 ],
 "metadata": {
  "kernelspec": {
   "display_name": "Python 3 (ipykernel)",
   "language": "python",
   "name": "python3"
  },
  "language_info": {
   "codemirror_mode": {
    "name": "ipython",
    "version": 3
   },
   "file_extension": ".py",
   "mimetype": "text/x-python",
   "name": "python",
   "nbconvert_exporter": "python",
   "pygments_lexer": "ipython3",
   "version": "3.10.10"
  }
 },
 "nbformat": 4,
 "nbformat_minor": 5
}
