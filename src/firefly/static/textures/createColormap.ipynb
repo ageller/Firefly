{
 "cells": [
  {
   "cell_type": "markdown",
   "metadata": {},
   "source": [
    "# Code to create the texture colormap.png"
   ]
  },
  {
   "cell_type": "code",
   "execution_count": 1,
   "metadata": {},
   "outputs": [],
   "source": [
    "import numpy as np\n",
    "import matplotlib.pyplot as plt\n",
    "from matplotlib import cm"
   ]
  },
  {
   "cell_type": "code",
   "execution_count": 2,
   "metadata": {},
   "outputs": [],
   "source": [
    "from matplotlib.colors import ListedColormap"
   ]
  },
  {
   "cell_type": "code",
   "execution_count": 3,
   "metadata": {},
   "outputs": [
    {
     "data": {
      "image/png": "[encoded data removed]",
      "text/html": [
       "<div style=\"vertical-align: middle;\"><strong>blackbody</strong> </div><div class=\"cmap\"><img alt=\"blackbody colormap\" title=\"blackbody\" style=\"border: 1px solid #555;\" src=\"data:image/png;base64,iVBORw0KGgoAAAANSUhEUgAAAgAAAABACAYAAABsv8+/AAAAGHRFWHRUaXRsZQBibGFja2JvZHkgY29sb3JtYXAGka9xAAAAHnRFWHREZXNjcmlwdGlvbgBibGFja2JvZHkgY29sb3JtYXBECkn6AAAAMHRFWHRBdXRob3IATWF0cGxvdGxpYiB2My41LjEsIGh0dHBzOi8vbWF0cGxvdGxpYi5vcmf3t87PAAAAMnRFWHRTb2Z0d2FyZQBNYXRwbG90bGliIHYzLjUuMSwgaHR0cHM6Ly9tYXRwbG90bGliLm9yZ9kRUegAAAIfSURBVHic7dZNcptAFIXRhux/KV5ENuRJ4jiWkMggKuupaIqf6T1noq7XNCBbg294+znP7WFoK1Y31h060rn4xCNfDp49PywWB87s3tj5iBPfZTj73mf+B0N32b/0yN9i77tsPP/sM4/cq/d76d137VV69+3O9rxL71md9zpyfuv9hpXvvXWv3ftb9y/DceN8b7/et+6P4/LaceNea+fHzv6Pzn49N8z357CV9Xx7/WyttXlrv6zvG/vf56flmbX5y2xaXtub1Xndv187+9eV/bK+XddnrbV2vyxnt8tyfft6zqa6/5hPdb+znv6W2edzfa3rP/8/L7/L7P25vnw8Zq3MOuvy+PbZWX+U2a+yLo8qP0MAIIUAAIBAAgAAAgkAAAgkAAAgkAAAgEACAAACCQAACCQAACCQAACAQAIAAAIJAAAIJAAAIJAAAIBAAgAAAgkAAAgkAAAgkAAAgEACAAACCQAACCQAACCQAACAQAIAAAIJAAAIJAAAIJAAAIBAAgAAAgkAAAgkAAAgkAAAgEACAAACCQAACCQAACCQAACAQAIAAAIJAAAIJAAAIJAAAIBAAgAAAgkAAAgkAAAgkAAAgEACAAACCQAACCQAACCQAACAQAIAAAIJAAAIJAAAIJAAAIBAAgAAAgkAAAgkAAAgkAAAgEACAAACCQAACCQAACCQAACAQAIAAAIJAAAIJAAAIJAAAIBAAgAAAv0DuxRqsRxmkVgAAAAASUVORK5CYII=\"></div><div style=\"vertical-align: middle; max-width: 514px; display: flex; justify-content: space-between;\"><div style=\"float: left;\"><div title=\"#adc1ffff\" style=\"display: inline-block; width: 1em; height: 1em; margin: 0; vertical-align: middle; border: 1px solid #555; background-color: #adc1ffff;\"></div> under</div><div style=\"margin: 0 auto; display: inline-block;\">bad <div title=\"#00000000\" style=\"display: inline-block; width: 1em; height: 1em; margin: 0; vertical-align: middle; border: 1px solid #555; background-color: #00000000;\"></div></div><div style=\"float: right;\">over <div title=\"#ff3300ff\" style=\"display: inline-block; width: 1em; height: 1em; margin: 0; vertical-align: middle; border: 1px solid #555; background-color: #ff3300ff;\"></div></div>"
      ],
      "text/plain": [
       "<matplotlib.colors.ListedColormap at 0x122355f70>"
      ]
     },
     "execution_count": 3,
     "metadata": {},
     "output_type": "execute_result"
    }
   ],
   "source": [
    "bb_cmap = plt.imread('bb.png')\n",
    "new_cmap = ListedColormap(bb_cmap[0][::-1],name='blackbody')\n",
    "new_cmap"
   ]
  },
  {
   "cell_type": "code",
   "execution_count": 4,
   "metadata": {},
   "outputs": [],
   "source": [
    "from matplotlib.colors import LinearSegmentedColormap\n",
    "minor = [(0.0,  0.0, 0.0),\n",
    "        (0.7, 0.0, 0.0),\n",
    "        (1.0,  .5, 0.0)]\n",
    "major = [(0.0,  0.0, 0.0),\n",
    "        (0.1, 0.3, 0.3),\n",
    "        (1.0,  1.0, 0.0)]\n",
    "\n",
    "cmaps = []\n",
    "colors = ['red','green','blue']\n",
    "for color in colors:\n",
    "    cdict = {color:major,**dict([(subcolor,minor) for subcolor in colors if subcolor !=color])}\n",
    "    cmaps += [LinearSegmentedColormap('Blk'+color.title(),cdict)]"
   ]
  },
  {
   "cell_type": "code",
   "execution_count": 5,
   "metadata": {},
   "outputs": [
    {
     "data": {
      "image/png": "[encoded data removed]",
      "text/html": [
       "<div style=\"vertical-align: middle;\"><strong>BlkRed</strong> </div><div class=\"cmap\"><img alt=\"BlkRed colormap\" title=\"BlkRed\" style=\"border: 1px solid #555;\" src=\"data:image/png;base64,iVBORw0KGgoAAAANSUhEUgAAAgAAAABACAYAAABsv8+/AAAAFXRFWHRUaXRsZQBCbGtSZWQgY29sb3JtYXDHwSWsAAAAG3RFWHREZXNjcmlwdGlvbgBCbGtSZWQgY29sb3JtYXCOVj1IAAAAMHRFWHRBdXRob3IATWF0cGxvdGxpYiB2My41LjEsIGh0dHBzOi8vbWF0cGxvdGxpYi5vcmf3t87PAAAAMnRFWHRTb2Z0d2FyZQBNYXRwbG90bGliIHYzLjUuMSwgaHR0cHM6Ly9tYXRwbG90bGliLm9yZ9kRUegAAAFtSURBVHic7dY7DsIwEEDBTeD+V4YCUoCEKPgI8maalRLLsau8ZWZOMzOHufjUXK/z+OH321yezHnx/bv2+dZ36vv867m/9Z29nufv77Wut3O5rnjw/H79PHh+v35e3OfXzrPXe737PNv/EgAIEQAAECQAACBIAABAkAAAgCABAABBAgAAggQAAAQJAAAIEgAAECQAACBIAABAkAAAgCABAABBAgAAggQAAAQJAAAIEgAAECQAACBIAABAkAAAgCABAABBAgAAggQAAAQJAAAIEgAAECQAACBIAABAkAAAgCABAABBAgAAggQAAAQJAAAIEgAAECQAACBIAABAkAAAgCABAABBAgAAggQAAAQJAAAIEgAAECQAACBIAABAkAAAgCABAABBAgAAggQAAAQJAAAIEgAAECQAACBIAABAkAAAgCABAABBAgAAggQAAAQJAAAIEgAAECQAACBIAABAkAAAgCABAABBAgAAgs42SQN8mvu9NAAAAABJRU5ErkJggg==\"></div><div style=\"vertical-align: middle; max-width: 514px; display: flex; justify-content: space-between;\"><div style=\"float: left;\"><div title=\"#000000ff\" style=\"display: inline-block; width: 1em; height: 1em; margin: 0; vertical-align: middle; border: 1px solid #555; background-color: #000000ff;\"></div> under</div><div style=\"margin: 0 auto; display: inline-block;\">bad <div title=\"#00000000\" style=\"display: inline-block; width: 1em; height: 1em; margin: 0; vertical-align: middle; border: 1px solid #555; background-color: #00000000;\"></div></div><div style=\"float: right;\">over <div title=\"#ff8080ff\" style=\"display: inline-block; width: 1em; height: 1em; margin: 0; vertical-align: middle; border: 1px solid #555; background-color: #ff8080ff;\"></div></div>"
      ],
      "text/plain": [
       "<matplotlib.colors.LinearSegmentedColormap at 0x122525f10>"
      ]
     },
     "execution_count": 5,
     "metadata": {},
     "output_type": "execute_result"
    }
   ],
   "source": [
    "cmaps[0]"
   ]
  },
  {
   "cell_type": "code",
   "execution_count": 6,
   "metadata": {},
   "outputs": [
    {
     "data": {
      "image/png": "[encoded data removed]",
      "text/html": [
       "<div style=\"vertical-align: middle;\"><strong>BlkGreen</strong> </div><div class=\"cmap\"><img alt=\"BlkGreen colormap\" title=\"BlkGreen\" style=\"border: 1px solid #555;\" src=\"data:image/png;base64,iVBORw0KGgoAAAANSUhEUgAAAgAAAABACAYAAABsv8+/AAAAF3RFWHRUaXRsZQBCbGtHcmVlbiBjb2xvcm1hcAvofxQAAAAddEVYdERlc2NyaXB0aW9uAEJsa0dyZWVuIGNvbG9ybWFwIpaYPQAAADB0RVh0QXV0aG9yAE1hdHBsb3RsaWIgdjMuNS4xLCBodHRwczovL21hdHBsb3RsaWIub3Jn97fOzwAAADJ0RVh0U29mdHdhcmUATWF0cGxvdGxpYiB2My41LjEsIGh0dHBzOi8vbWF0cGxvdGxpYi5vcmfZEVHoAAABbElEQVR4nO3WOQ4CMRAAwfHC/78MARCAhAg4BHRVMpLXsr1Zr5k5zMzMbuatczvP/Zu/X+Z6MOfJ768651P31M/51Xd/6p5/fc+P/9e2tqu51mnDNnfWb/fPnfXb/fPkOd/2nn/9r5e/BwDIEQAAECQAACBIAABAkAAAgCABAABBAgAAggQAAAQJAAAIEgAAECQAACBIAABAkAAAgCABAABBAgAAggQAAAQJAAAIEgAAECQAACBIAABAkAAAgCABAABBAgAAggQAAAQJAAAIEgAAECQAACBIAABAkAAAgCABAABBAgAAggQAAAQJAAAIEgAAECQAACBIAABAkAAAgCABAABBAgAAggQAAAQJAAAIEgAAECQAACBIAABAkAAAgCABAABBAgAAggQAAAQJAAAIEgAAECQAACBIAABAkAAAgCABAABBAgAAggQAAAQJAAAIEgAAECQAACBIAABAkAAAgCABAABBAgAAgo41yQN8tOHBYAAAAABJRU5ErkJggg==\"></div><div style=\"vertical-align: middle; max-width: 514px; display: flex; justify-content: space-between;\"><div style=\"float: left;\"><div title=\"#000000ff\" style=\"display: inline-block; width: 1em; height: 1em; margin: 0; vertical-align: middle; border: 1px solid #555; background-color: #000000ff;\"></div> under</div><div style=\"margin: 0 auto; display: inline-block;\">bad <div title=\"#00000000\" style=\"display: inline-block; width: 1em; height: 1em; margin: 0; vertical-align: middle; border: 1px solid #555; background-color: #00000000;\"></div></div><div style=\"float: right;\">over <div title=\"#80ff80ff\" style=\"display: inline-block; width: 1em; height: 1em; margin: 0; vertical-align: middle; border: 1px solid #555; background-color: #80ff80ff;\"></div></div>"
      ],
      "text/plain": [
       "<matplotlib.colors.LinearSegmentedColormap at 0x122525fa0>"
      ]
     },
     "execution_count": 6,
     "metadata": {},
     "output_type": "execute_result"
    }
   ],
   "source": [
    "cmaps[1]"
   ]
  },
  {
   "cell_type": "code",
   "execution_count": 7,
   "metadata": {},
   "outputs": [
    {
     "data": {
      "image/png": "[encoded data removed]",
      "text/html": [
       "<div style=\"vertical-align: middle;\"><strong>BlkBlue</strong> </div><div class=\"cmap\"><img alt=\"BlkBlue colormap\" title=\"BlkBlue\" style=\"border: 1px solid #555;\" src=\"data:image/png;base64,iVBORw0KGgoAAAANSUhEUgAAAgAAAABACAYAAABsv8+/AAAAFnRFWHRUaXRsZQBCbGtCbHVlIGNvbG9ybWFwruB3wwAAABx0RVh0RGVzY3JpcHRpb24AQmxrQmx1ZSBjb2xvcm1hcAnOxroAAAAwdEVYdEF1dGhvcgBNYXRwbG90bGliIHYzLjUuMSwgaHR0cHM6Ly9tYXRwbG90bGliLm9yZ/e3zs8AAAAydEVYdFNvZnR3YXJlAE1hdHBsb3RsaWIgdjMuNS4xLCBodHRwczovL21hdHBsb3RsaWIub3Jn2RFR6AAAAWtJREFUeJzt1jkOwkAQAMFZw/+/DAkEICEkLgFdlYx8aLzOes3MYWZmZjfvndtp7t/8/DzXnTlPPn/Vnk99p77nV8/9qe/863l++7+2bV3Mtc7Xc+P+9fv39lzue3zPt53nX//rxecZACBHAABAkAAAgCABAABBAgAAggQAAAQJAAAIEgAAECQAACBIAABAkAAAgCABAABBAgAAggQAAAQJAAAIEgAAECQAACBIAABAkAAAgCABAABBAgAAggQAAAQJAAAIEgAAECQAACBIAABAkAAAgCABAABBAgAAggQAAAQJAAAIEgAAECQAACBIAABAkAAAgCABAABBAgAAggQAAAQJAAAIEgAAECQAACBIAABAkAAAgCABAABBAgAAggQAAAQJAAAIEgAAECQAACBIAABAkAAAgCABAABBAgAAggQAAAQJAAAIEgAAECQAACBIAABAkAAAgCABAABBAgAAggQAAAQJAAAIOgI1SQN88qKy/AAAAABJRU5ErkJggg==\"></div><div style=\"vertical-align: middle; max-width: 514px; display: flex; justify-content: space-between;\"><div style=\"float: left;\"><div title=\"#000000ff\" style=\"display: inline-block; width: 1em; height: 1em; margin: 0; vertical-align: middle; border: 1px solid #555; background-color: #000000ff;\"></div> under</div><div style=\"margin: 0 auto; display: inline-block;\">bad <div title=\"#00000000\" style=\"display: inline-block; width: 1em; height: 1em; margin: 0; vertical-align: middle; border: 1px solid #555; background-color: #00000000;\"></div></div><div style=\"float: right;\">over <div title=\"#8080ffff\" style=\"display: inline-block; width: 1em; height: 1em; margin: 0; vertical-align: middle; border: 1px solid #555; background-color: #8080ffff;\"></div></div>"
      ],
      "text/plain": [
       "<matplotlib.colors.LinearSegmentedColormap at 0x122525f70>"
      ]
     },
     "execution_count": 7,
     "metadata": {},
     "output_type": "execute_result"
    }
   ],
   "source": [
    "cmaps[2]"
   ]
  },
  {
   "cell_type": "code",
   "execution_count": 8,
   "metadata": {},
   "outputs": [
    {
     "data": {
      "image/png": "[encoded data removed]",
      "text/plain": [
       "<Figure size 256x256 with 32 Axes>"
      ]
     },
     "metadata": {
      "needs_background": "light"
     },
     "output_type": "display_data"
    }
   ],
   "source": [
    "def plot_cmap(colormaps, pts, dpi=72,manual_cmaps=None):\n",
    "    ny, nx = pts.shape\n",
    "    ny *= len(colormaps)\n",
    "\n",
    "    ## create a square image that has a precise number of pixels\n",
    "    ##  a row for each colormap\n",
    "    f, ax = plt.subplots(len(colormaps),1, figsize=(nx/dpi, ny/dpi), dpi=dpi)\n",
    "    plt.subplots_adjust(wspace=0, hspace=0, bottom=0, top=1, left=0, right=1)\n",
    "\n",
    "    ## plot a color gradient in each axis\n",
    "    for i,c in enumerate(colormaps):\n",
    "        ax[i].imshow(pts, aspect='equal', cmap=c)\n",
    "        ax[i].axis('off')\n",
    "        \n",
    "    if manual_cmaps is not None:\n",
    "        for i,cmap in enumerate(manual_cmaps):\n",
    "            print('replacing',colormaps[i])\n",
    "            ax[i].imshow(cmap,aspect='equal')\n",
    "\n",
    "gradient = np.linspace(0, 1, 256)\n",
    "colormapsList= [\n",
    "        'viridis',\n",
    "        'plasma',\n",
    "        'inferno',\n",
    "        'magma',\n",
    "        'afmhot',\n",
    "        new_cmap,\n",
    "        'bwr',\n",
    "        'bwr_r',\n",
    "        'coolwarm',\n",
    "        'coolwarm_r',\n",
    "        'ocean',\n",
    "        'gist_earth',\n",
    "        'terrain',\n",
    "        'bone',\n",
    "        'PiYG_r',\n",
    "        'PRGn',\n",
    "        'BrBG',\n",
    "        'RdGy_r',\n",
    "        cmaps[0],\n",
    "        cmaps[1],\n",
    "        cmaps[2],\n",
    "        'Purples',\n",
    "        'Purples_r',\n",
    "        'Blues',\n",
    "        'Blues_r',\n",
    "        'Greens',\n",
    "        'Greens_r',\n",
    "        'Oranges',\n",
    "        'Oranges_r',\n",
    "        'Greys_r',\n",
    "        'binary_r',\n",
    "        'binary',\n",
    "        ]\n",
    "\n",
    "\n",
    "## thickness of each row in pixels\n",
    "ny = 8\n",
    "\n",
    "## create a grid of gradient points\n",
    "pts = np.zeros((ny,gradient.size))\n",
    "pts[:,] = gradient\n",
    "\n",
    "## make image\n",
    "plot_cmap(colormapsList[::-1], pts) #reversed order for consistency with Mahlet's version\n",
    "\n",
    "\n",
    "plt.savefig(\"colormap.png\", bbox_inches='tight',pad_inches=0)\n",
    "plt.show()\n",
    "\n",
    "colormapsList = [name if type(name) == str else name.name for name in colormapsList ]\n",
    "\n",
    "## write colormap names out\n",
    "with open(\"colormap_names.json\",'w') as handle:\n",
    "    handle.write('{\"names\":%s'%str(colormapsList).replace(\"'\",'\"')+'}')"
   ]
  }
 ],
 "metadata": {
  "kernelspec": {
   "display_name": "Python 3 (ipykernel)",
   "language": "python",
   "name": "python3"
  },
  "language_info": {
   "codemirror_mode": {
    "name": "ipython",
    "version": 3
   },
   "file_extension": ".py",
   "mimetype": "text/x-python",
   "name": "python",
   "nbconvert_exporter": "python",
   "pygments_lexer": "ipython3",
   "version": "3.9.7"
  },
  "vscode": {
   "interpreter": {
    "hash": "11aaa3267b22ae31752e49491423e0b73cce45474e5b4cdee357f7fe2e78f442"
   }
  }
 },
 "nbformat": 4,
 "nbformat_minor": 4
}
